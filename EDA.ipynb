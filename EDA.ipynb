{
 "cells": [
  {
   "cell_type": "markdown",
   "id": "6db2b81e",
   "metadata": {},
   "source": [
    "# Poem: ETL & EDA\n",
    "\n"
   ]
  },
  {
   "cell_type": "markdown",
   "id": "95fa2575",
   "metadata": {},
   "source": [
    "# 🎓 Library"
   ]
  },
  {
   "cell_type": "code",
   "execution_count": 2,
   "id": "af26b5d9",
   "metadata": {},
   "outputs": [],
   "source": [
    "# Misc\n",
    "import glob\n",
    "import os\n",
    "import numpy as np\n",
    "import pandas as pd\n",
    "\n",
    "# Training\n",
    "from sklearn.feature_extraction.text import TfidfVectorizer\n",
    "from scipy.sparse import csr_array\n",
    "from sklearn.linear_model import LogisticRegression\n",
    "\n",
    "DATA = \"data/\"\n",
    "\n",
    "if not os.path.exists(DATA):\n",
    "    raise FileNotFoundError(f\"Data directory {DATA} does not exist. Please create it and add the data files.\")"
   ]
  },
  {
   "cell_type": "markdown",
   "id": "2c88b525",
   "metadata": {},
   "source": [
    "# Data Retrieval, Processing, and Storage\n",
    "\n",
    "Each file is a list of poems from an author.\n",
    "\n",
    "Each poem has these features:\n",
    "- Titre: The title of the poem\n",
    "- Texte: the poem itself\n",
    "- Auteur: The author of the poem\n",
    "- Creation: The date of creation"
   ]
  },
  {
   "cell_type": "markdown",
   "id": "997695a2",
   "metadata": {},
   "source": [
    "## Retrieval"
   ]
  },
  {
   "cell_type": "code",
   "execution_count": null,
   "id": "c985ce89",
   "metadata": {},
   "outputs": [],
   "source": [
    "# Get all files: Gives a list of dictionnaries \n",
    "all_files = glob.glob(DATA  + \"de/*.dill\")\n",
    "poems_list : list[dict]= []\n",
    "\n",
    "for file in all_files:\n",
    "    df = pd.read_pickle(file)\n",
    "    poems_list.append(df)\n",
    "    "
   ]
  },
  {
   "cell_type": "markdown",
   "id": "7b70c927",
   "metadata": {},
   "source": [
    "## Processing"
   ]
  },
  {
   "cell_type": "code",
   "execution_count": 55,
   "id": "959d68da",
   "metadata": {},
   "outputs": [],
   "source": [
    "def transform(list_poems : list) -> pd.DataFrame:\n",
    "    \"\"\"\n",
    "    Given a list of poems, return a proper DataFrame.\n",
    "    Keeps the empty lines in the text.\n",
    "\n",
    "    Args:\n",
    "        list_poems (list): List of poems, each poem is a list of lines.\n",
    "\n",
    "    Returns:\n",
    "        pd.DataFrame: DataFrame\n",
    "    \"\"\"\n",
    "\n",
    "    # Create the dataframe\n",
    "    df = pd.DataFrame(list_poems).rename(columns={\"Titre\": \"title\", \"Texte\": \"text\", \"Auteur\" : \"author\", \"Creation\": \"creation\"})\n",
    "    # Replace 'None' with NaN\n",
    "    df[\"creation\"] = df[\"creation\"].replace('None', np.nan)\n",
    "\n",
    "    prevalent_date = df.mode()[\"creation\"].iloc[0]\n",
    "\n",
    "    if pd.isna(prevalent_date):\n",
    "        print(\"This author: \", df[\"author\"].iloc[0], \"has no prevalent date.\")\n",
    "        # For now, we do not keep him\n",
    "        return pd.DataFrame()\n",
    "    \n",
    "    # Creation can be NaN, fill it with the prevalent value\n",
    "    df[\"creation\"] = df[\"creation\"].fillna(df.mode()[\"creation\"].iloc[0])\n",
    "    \n",
    "    return df"
   ]
  },
  {
   "cell_type": "code",
   "execution_count": 56,
   "id": "dd9bfd20",
   "metadata": {},
   "outputs": [
    {
     "name": "stdout",
     "output_type": "stream",
     "text": [
      "This author:  Suppius, Christoph Eusebius has no prevalent date.\n",
      "This author:  Ebeling, Johann Justus has no prevalent date.\n",
      "This author:  Candidus, Karl has no prevalent date.\n",
      "This author:  Schmolck, Benjamin has no prevalent date.\n",
      "This author:  Knorr, Christian has no prevalent date.\n",
      "This author:  Plavius, Johannes has no prevalent date.\n",
      "This author:  Neumark, Georg has no prevalent date.\n",
      "This author:  Theokrit has no prevalent date.\n",
      "This author:  Greflinger, Georg has no prevalent date.\n",
      "This author:  Spindler, Christian Gotthold has no prevalent date.\n",
      "This author:  Anakreon has no prevalent date.\n",
      "This author:  Arent, Wilhelm (Hg.) has no prevalent date.\n",
      "This author:  Nietzsche, Friedrich has no prevalent date.\n",
      "This author:  Scheyb, Franz Christoph von has no prevalent date.\n",
      "This author:  Schmeltzl, Wolfgang has no prevalent date.\n",
      "This author:  Beer, Johann has no prevalent date.\n",
      "This author:  [anonymous] has no prevalent date.\n",
      "This author:  Sommer, Elise has no prevalent date.\n",
      "This author:  Bodmer, Johann Jacob has no prevalent date.\n",
      "This author:  George, Stefan has no prevalent date.\n"
     ]
    }
   ],
   "source": [
    "poems_df = pd.DataFrame()\n",
    "for poems in poems_list:\n",
    "\n",
    "    with pd.option_context(\"future.no_silent_downcasting\", True):\n",
    "        df = transform(poems)\n",
    "    poems_df = pd.concat([poems_df, df], ignore_index=True)\n"
   ]
  },
  {
   "cell_type": "code",
   "execution_count": 44,
   "id": "4606e67a",
   "metadata": {},
   "outputs": [
    {
     "data": {
      "text/plain": [
       "73951"
      ]
     },
     "execution_count": 44,
     "metadata": {},
     "output_type": "execute_result"
    }
   ],
   "source": [
    "len(poems_df)"
   ]
  },
  {
   "cell_type": "markdown",
   "id": "82c50ece",
   "metadata": {},
   "source": [
    "## Storage"
   ]
  },
  {
   "cell_type": "code",
   "execution_count": 57,
   "id": "3d254a77",
   "metadata": {},
   "outputs": [],
   "source": [
    "poems_df.to_parquet(DATA + \"de_poems.parquet\", index=False)"
   ]
  },
  {
   "cell_type": "markdown",
   "id": "8ed575c2",
   "metadata": {},
   "source": [
    "# EDA"
   ]
  },
  {
   "cell_type": "code",
   "execution_count": null,
   "id": "b4afdf40",
   "metadata": {},
   "outputs": [],
   "source": []
  }
 ],
 "metadata": {
  "kernelspec": {
   "display_name": "NLP1",
   "language": "python",
   "name": "python3"
  },
  "language_info": {
   "codemirror_mode": {
    "name": "ipython",
    "version": 3
   },
   "file_extension": ".py",
   "mimetype": "text/x-python",
   "name": "python",
   "nbconvert_exporter": "python",
   "pygments_lexer": "ipython3",
   "version": "3.11.8"
  }
 },
 "nbformat": 4,
 "nbformat_minor": 5
}
