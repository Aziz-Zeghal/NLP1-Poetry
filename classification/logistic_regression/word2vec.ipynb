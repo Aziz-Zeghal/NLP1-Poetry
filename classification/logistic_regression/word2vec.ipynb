{
 "cells": [
  {
   "cell_type": "code",
   "execution_count": null,
   "id": "188b023f",
   "metadata": {},
   "outputs": [],
   "source": [
    "import pandas as pd\n",
    "import os\n",
    "import re\n",
    "from gensim.models import Word2Vec\n",
    "import numpy as np\n",
    "from sklearn.linear_model import LogisticRegression\n",
    "from sklearn.model_selection import train_test_split\n",
    "from sklearn.metrics import classification_report, confusion_matrix, ConfusionMatrixDisplay\n",
    "from sklearn.preprocessing import StandardScaler\n",
    "from sklearn.preprocessing import label_binarize\n",
    "from sklearn.metrics import roc_auc_score\n",
    "import matplotlib.pyplot as plt\n",
    "import seaborn as sns"
   ]
  },
  {
   "cell_type": "markdown",
   "id": "0e7f583f",
   "metadata": {},
   "source": [
    "## LOAD DATA"
   ]
  },
  {
   "cell_type": "code",
   "execution_count": null,
   "id": "cc24f135",
   "metadata": {},
   "outputs": [],
   "source": [
    "df = pd.read_parquet(\"../data/de_poems.parquet\")\n",
    "df = df.astype({\"title\": \"string\", \"text\": \"string\", \"author\": \"string\", \"creation\": \"int64\"})\n",
    "df.dtypes"
   ]
  },
  {
   "cell_type": "markdown",
   "id": "20858584",
   "metadata": {},
   "source": [
    "## PREPROCESS THE DATA"
   ]
  },
  {
   "cell_type": "code",
   "execution_count": null,
   "id": "d5a73da8",
   "metadata": {},
   "outputs": [],
   "source": [
    "def preprocess_text(text: str) -> list[str]:\n",
    "    text = text.lower()\n",
    "    text = re.sub(r'[^a-z\\s]', '', text) # remove punctuation\n",
    "    tokens = text.split()\n",
    "    return tokens\n",
    "\n",
    "df[\"century\"] = (df[\"creation\"] // 100) + 1\n",
    "df[\"tokens\"] = df[\"text\"].apply(preprocess_text)\n",
    "df"
   ]
  },
  {
   "cell_type": "markdown",
   "id": "a38688f9",
   "metadata": {},
   "source": [
    "## Word2Vec model training & text vectorization"
   ]
  },
  {
   "cell_type": "code",
   "execution_count": null,
   "id": "79289450",
   "metadata": {},
   "outputs": [],
   "source": [
    "#w2v_model = Word2Vec(sentences=df[\"tokens\"], vector_size=500, window=25, min_count=2, workers=20, epochs=30, seed=42)\n",
    "w2v_model = Word2Vec(sentences=df[\"tokens\"], vector_size=750, window=25, min_count=2, workers=20, epochs=50, seed=42)"
   ]
  },
  {
   "cell_type": "code",
   "execution_count": null,
   "id": "acb54423",
   "metadata": {},
   "outputs": [],
   "source": [
    "\"\"\"def vectorize(tokens, model):\n",
    "    vectors = [model.wv[word] for word in tokens if word in model.wv]\n",
    "    if len(vectors) > 0:\n",
    "        return np.mean(vectors, axis=0)\n",
    "    else:\n",
    "        return np.zeros(model.vector_size)\"\"\"\n",
    "def vectorize(tokens, model):\n",
    "    vectors = [model.wv[word] for word in tokens if word in model.wv]\n",
    "    if not vectors:\n",
    "        return np.zeros(model.vector_size * 2)\n",
    "    vectors = np.array(vectors)\n",
    "    mean_vec = vectors.mean(axis=0)\n",
    "    max_vec = vectors.max(axis=0)\n",
    "    return np.concatenate([mean_vec, max_vec])\n",
    "\n",
    "df[\"vector\"] = df[\"tokens\"].apply(lambda tokens: vectorize(tokens, w2v_model))"
   ]
  },
  {
   "cell_type": "markdown",
   "id": "86b9e613",
   "metadata": {},
   "source": [
    "## LOGISTIC REGRESSION TRAINING"
   ]
  },
  {
   "cell_type": "code",
   "execution_count": null,
   "id": "d65ef299",
   "metadata": {},
   "outputs": [],
   "source": [
    "X = np.stack(df[\"vector\"].values)\n",
    "y = df[\"century\"]\n",
    "\n",
    "X_train, X_test, y_train, y_test = train_test_split(X, y, test_size=0.2, random_state=42)\n",
    "scaler = StandardScaler()\n",
    "X_train = scaler.fit_transform(X_train)\n",
    "X_test = scaler.transform(X_test)\n",
    "\n",
    "clf = LogisticRegression(max_iter=5000, class_weight=\"balanced\", random_state=42)\n",
    "clf.fit(X_train, y_train)"
   ]
  },
  {
   "cell_type": "code",
   "execution_count": null,
   "id": "2f3ef2c3",
   "metadata": {},
   "outputs": [],
   "source": [
    "y_pred = clf.predict(X_test)\n",
    "report = classification_report(y_test, y_pred, output_dict=True)\n",
    "print(classification_report(y_test, y_pred))\n",
    "\n",
    "avg_precision = report['weighted avg']['precision']\n",
    "avg_recall = report['weighted avg']['recall']\n",
    "avg_f1 = report['weighted avg']['f1-score']\n",
    "accuracy = report['accuracy']\n",
    "# for ROC AUC\n",
    "y_test_binarized = label_binarize(y_test, classes=np.unique(y_test))\n",
    "roc_auc = roc_auc_score(y_test_binarized, clf.predict_proba(X_test), average='macro', multi_class='ovr')"
   ]
  },
  {
   "cell_type": "code",
   "execution_count": null,
   "id": "9188dc88",
   "metadata": {},
   "outputs": [],
   "source": [
    "cm = confusion_matrix(y_test, y_pred, normalize=\"true\")\n",
    "cm_percent = cm * 100\n",
    "plt.figure(figsize=(12, 6))\n",
    "sns.heatmap(cm_percent, annot=True, fmt=\".1f\", cmap=\"Blues\",\n",
    "            xticklabels=clf.classes_, yticklabels=clf.classes_)\n",
    "plt.title(\"Confusion Matrix\")\n",
    "plt.ylabel(\"True Century\")\n",
    "plt.xlabel(\"Predicted Century\")\n",
    "plt.show()"
   ]
  },
  {
   "cell_type": "code",
   "execution_count": null,
   "id": "e68e344d",
   "metadata": {},
   "outputs": [],
   "source": [
    "\n",
    "BENCHMARK_TABLE = \"../../class_bench.parquet\"\n",
    "benchmark = pd.read_parquet(BENCHMARK_TABLE)\n",
    "benchmark.loc[(\"Word2Vec\", \"Logistic Regression\"), [\"Avg Recall\", \"Avg F1-Score\", \"Avg Precision\", \"Accuracy\", \"Avg AUC\"]] = [\n",
    "    avg_recall, avg_f1, avg_precision, accuracy, roc_auc\n",
    "]\n",
    "benchmark.to_parquet(BENCHMARK_TABLE, index=True)"
   ]
  },
  {
   "cell_type": "code",
   "execution_count": null,
   "id": "e68edda1",
   "metadata": {},
   "outputs": [],
   "source": [
    "benchmark"
   ]
  }
 ],
 "metadata": {
  "kernelspec": {
   "display_name": "NLP1",
   "language": "python",
   "name": "python3"
  },
  "language_info": {
   "codemirror_mode": {
    "name": "ipython",
    "version": 3
   },
   "file_extension": ".py",
   "mimetype": "text/x-python",
   "name": "python",
   "nbconvert_exporter": "python",
   "pygments_lexer": "ipython3",
   "version": "3.12.10"
  }
 },
 "nbformat": 4,
 "nbformat_minor": 5
}
