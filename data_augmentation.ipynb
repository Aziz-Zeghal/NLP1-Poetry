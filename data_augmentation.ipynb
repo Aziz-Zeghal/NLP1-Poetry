{
 "cells": [
  {
   "cell_type": "markdown",
   "id": "03945439",
   "metadata": {},
   "source": [
    "# Data augmentation\n",
    "\n",
    "Transform the original dataset with new samples generated through different methods. Most libraries like textattack, nlpaug, are not designed for german sentences.\n",
    "\n",
    "Source: [Text data augmentations: Permutation, antonyms and negation\n",
    "](https://www.sciencedirect.com/science/article/abs/pii/S0957417421002104)"
   ]
  },
  {
   "cell_type": "markdown",
   "id": "8d69046e",
   "metadata": {},
   "source": [
    "## 🎓 Library"
   ]
  },
  {
   "cell_type": "code",
   "execution_count": null,
   "id": "dfa4d00d",
   "metadata": {},
   "outputs": [],
   "source": [
    "from googletrans import Translator\n",
    "import pandas as pd\n",
    "\n",
    "DATA = \"classification/data/\"\n"
   ]
  },
  {
   "cell_type": "markdown",
   "id": "e696f158",
   "metadata": {},
   "source": [
    "## Initial setup\n",
    "\n",
    "We start with 71570 poems"
   ]
  },
  {
   "cell_type": "code",
   "execution_count": null,
   "id": "fe6ba262",
   "metadata": {},
   "outputs": [],
   "source": [
    "poems_df = pd.read_parquet(DATA + \"de_poems.parquet\")"
   ]
  },
  {
   "cell_type": "code",
   "execution_count": null,
   "id": "e2f2bc9a",
   "metadata": {},
   "outputs": [],
   "source": [
    "poems_df.head(3)[\"text\"]"
   ]
  },
  {
   "cell_type": "code",
   "execution_count": null,
   "id": "de118305",
   "metadata": {},
   "outputs": [],
   "source": [
    "new_poems_df = poems_df.copy()"
   ]
  },
  {
   "cell_type": "markdown",
   "id": "cf0ec2d8",
   "metadata": {},
   "source": [
    "## Line permutation\n",
    "\n",
    "Check the file `classification/utils.py` for the function `data_augment`. This function shuffles the lines of poems in the same century.\n",
    "\n",
    "\n",
    "The model `classification/logistic_regression/tfidf.ipynb` can be trained with the augmented data."
   ]
  },
  {
   "cell_type": "markdown",
   "id": "20801f53",
   "metadata": {},
   "source": [
    "## Translation to english, textattack augment, and back to german\n",
    "\n",
    "Augmenting with textattack changes proper names and quantities."
   ]
  },
  {
   "cell_type": "code",
   "execution_count": null,
   "id": "1645be86",
   "metadata": {},
   "outputs": [],
   "source": [
    "translator = Translator()"
   ]
  },
  {
   "cell_type": "code",
   "execution_count": null,
   "id": "880fc0ec",
   "metadata": {},
   "outputs": [],
   "source": [
    "transformed_poems = []\n",
    "for index, row in new_poems_df.iterrows():\n",
    "    translated = await translator.translate(row[\"text\"], src=\"de\", dest=\"en\")\n",
    "    translated_row = {\n",
    "        \"title\": row[\"title\"],\n",
    "        \"text\": translated.text,\n",
    "        \"author\": row[\"author\"],\n",
    "        \"creation\": row[\"creation\"]\n",
    "    }\n",
    "    transformed_poems.append(translated_row)\n",
    "\n",
    "translated_df = pd.DataFrame(transformed_poems)"
   ]
  },
  {
   "cell_type": "markdown",
   "id": "2f9aeb3e",
   "metadata": {},
   "source": [
    "## Germanet synonyms\n",
    "\n",
    "GermaNet is a semantic network for german, similar to WordNet. It contains information about the meaning of words and their relationships to each other. It can be used to find semantic relations between words, such as synonyms, and antonyms.\n",
    "\n",
    "Sadly the dataset is not open source and needs to have an authorization to use it."
   ]
  }
 ],
 "metadata": {
  "kernelspec": {
   "display_name": "NLP1",
   "language": "python",
   "name": "python3"
  },
  "language_info": {
   "codemirror_mode": {
    "name": "ipython",
    "version": 3
   },
   "file_extension": ".py",
   "mimetype": "text/x-python",
   "name": "python",
   "nbconvert_exporter": "python",
   "pygments_lexer": "ipython3",
   "version": "3.12.10"
  }
 },
 "nbformat": 4,
 "nbformat_minor": 5
}
