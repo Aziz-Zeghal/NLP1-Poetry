{
 "cells": [
  {
   "cell_type": "markdown",
   "id": "8d69046e",
   "metadata": {},
   "source": [
    "## 🎓 Library"
   ]
  },
  {
   "cell_type": "code",
   "execution_count": 1,
   "id": "dfa4d00d",
   "metadata": {},
   "outputs": [],
   "source": [
    "from googletrans import Translator\n",
    "from tqdm import tqdm\n",
    "import pandas as pd\n",
    "\n",
    "DATA = \"data/\"\n"
   ]
  },
  {
   "cell_type": "markdown",
   "id": "e696f158",
   "metadata": {},
   "source": [
    "## Initial setup\n",
    "\n",
    "We start with 71570 poems"
   ]
  },
  {
   "cell_type": "code",
   "execution_count": 2,
   "id": "fe6ba262",
   "metadata": {},
   "outputs": [],
   "source": [
    "poems_df = pd.read_parquet(DATA + \"de_poems.parquet\")"
   ]
  },
  {
   "cell_type": "code",
   "execution_count": 3,
   "id": "e2f2bc9a",
   "metadata": {},
   "outputs": [
    {
     "data": {
      "text/plain": [
       "0    Gebohrn, und wiederumb, o Mensch, gebohren wer...\n",
       "1    Es suchte niemand Gott, liegt er gleich unterm...\n",
       "2    Die ist in Gott, und Gott der ist zugleich in ...\n",
       "Name: text, dtype: object"
      ]
     },
     "execution_count": 3,
     "metadata": {},
     "output_type": "execute_result"
    }
   ],
   "source": [
    "poems_df.head(3)[\"text\"]"
   ]
  },
  {
   "cell_type": "code",
   "execution_count": 4,
   "id": "de118305",
   "metadata": {},
   "outputs": [],
   "source": [
    "new_poems_df = poems_df.copy()"
   ]
  },
  {
   "cell_type": "code",
   "execution_count": 58,
   "id": "3d6239e0",
   "metadata": {},
   "outputs": [],
   "source": [
    "MAX_CHARS = 8500\n",
    "SEPARATOR = \"\\t\"\n",
    "\n",
    "async def translate_df(df: pd.DataFrame, src: str = \"de\", dest: str = \"en\") -> pd.DataFrame:\n",
    "    \"\"\"\n",
    "    Translates the text of a DataFrame from src to dst language.\n",
    "\n",
    "    Args:\n",
    "        df (pd.DataFrame): DataFrame containing the text to be translated.\n",
    "        src (str): Source language code.\n",
    "        dest (str): Destination language code.\n",
    "\n",
    "    Returns:\n",
    "        pd.DataFrame: DataFrame with translated text.\n",
    "    \"\"\"\n",
    "    translator = Translator()\n",
    "    translated_rows = []\n",
    "\n",
    "    buffer = []\n",
    "    buffer_len = 0\n",
    "    indices = []\n",
    "    \n",
    "    for idx, row in tqdm(df.iterrows(), total=len(df), desc=\"Translating\", colour=\"green\"):\n",
    "        text = row[\"text\"]\n",
    "        text_len = len(text) + len(SEPARATOR)\n",
    "\n",
    "        # If this text would overflow the buffer, translate current batch first\n",
    "        if buffer_len + text_len > MAX_CHARS:\n",
    "            if buffer:  # prevent empty batch\n",
    "                joined_text = SEPARATOR.join(buffer)\n",
    "                translated = (await translator.translate(joined_text, src=src, dest=dest)).text\n",
    "                split_texts = translated.split(SEPARATOR)\n",
    "\n",
    "                for i, translated_text in zip(indices, split_texts):\n",
    "                    translated_rows.append({\n",
    "                        \"title\": df.at[i, \"title\"],\n",
    "                        \"text\": translated_text,\n",
    "                        \"author\": df.at[i, \"author\"],\n",
    "                        \"creation\": df.at[i, \"creation\"]\n",
    "                    })\n",
    "\n",
    "            # Reset buffer\n",
    "            buffer = []\n",
    "            indices = []\n",
    "            buffer_len = 0\n",
    "\n",
    "        # If single poem is still too long, skip it (optional safety)\n",
    "        if text_len > MAX_CHARS:\n",
    "            print(f\"Skipping poem {idx} (too long: {text_len} chars)\")\n",
    "            continue\n",
    "\n",
    "        # Add to buffer\n",
    "        buffer.append(text)\n",
    "        indices.append(idx)\n",
    "        buffer_len += text_len\n",
    "\n",
    "    # Handle final batch\n",
    "    if buffer:\n",
    "        joined_text = SEPARATOR.join(buffer)\n",
    "        translated = (await translator.translate(joined_text, src=src, dest=dest)).text\n",
    "        split_texts = translated.split(SEPARATOR)\n",
    "\n",
    "        for i, translated_text in zip(indices, split_texts):\n",
    "            translated_rows.append({\n",
    "                \"title\": df.at[i, \"title\"],\n",
    "                \"text\": translated_text,\n",
    "                \"author\": df.at[i, \"author\"],\n",
    "                \"creation\": df.at[i, \"creation\"]\n",
    "            })\n",
    "\n",
    "    return pd.DataFrame(translated_rows)"
   ]
  },
  {
   "cell_type": "markdown",
   "id": "03945439",
   "metadata": {},
   "source": [
    "# Data merge (Generation)\n",
    "\n",
    "Merge two datasets into one. This requires the translation of one of the datasets into the language of the other dataset.\n"
   ]
  },
  {
   "cell_type": "markdown",
   "id": "3d258f40",
   "metadata": {},
   "source": [
    "## German to English\n",
    "\n",
    "English poems do not have a creation date, but this will not matter for the generation training."
   ]
  },
  {
   "cell_type": "code",
   "execution_count": 24,
   "id": "ecbec70f",
   "metadata": {},
   "outputs": [],
   "source": [
    "english_poems = pd.read_parquet(DATA + \"en_poems.parquet\")"
   ]
  },
  {
   "cell_type": "code",
   "execution_count": 66,
   "id": "3cb2239b",
   "metadata": {},
   "outputs": [
    {
     "name": "stderr",
     "output_type": "stream",
     "text": [
      "Translating:   0%|\u001b[32m          \u001b[0m| 0/10000 [00:00<?, ?it/s]"
     ]
    },
    {
     "name": "stderr",
     "output_type": "stream",
     "text": [
      "Translating:   2%|\u001b[32m▏         \u001b[0m| 164/10000 [00:01<01:13, 134.10it/s]"
     ]
    },
    {
     "name": "stdout",
     "output_type": "stream",
     "text": [
      "Skipping poem 157 (too long: 23508 chars)\n"
     ]
    },
    {
     "name": "stderr",
     "output_type": "stream",
     "text": [
      "Translating:   9%|\u001b[32m▉         \u001b[0m| 885/10000 [00:12<02:37, 57.79it/s] "
     ]
    },
    {
     "name": "stdout",
     "output_type": "stream",
     "text": [
      "Skipping poem 871 (too long: 14655 chars)\n"
     ]
    },
    {
     "name": "stderr",
     "output_type": "stream",
     "text": [
      "Translating:  14%|\u001b[32m█▍        \u001b[0m| 1409/10000 [00:36<05:24, 26.46it/s]"
     ]
    },
    {
     "name": "stdout",
     "output_type": "stream",
     "text": [
      "Skipping poem 1408 (too long: 8803 chars)\n"
     ]
    },
    {
     "name": "stderr",
     "output_type": "stream",
     "text": [
      "Translating:  14%|\u001b[32m█▍        \u001b[0m| 1413/10000 [00:37<10:12, 14.03it/s]"
     ]
    },
    {
     "name": "stdout",
     "output_type": "stream",
     "text": [
      "Skipping poem 1411 (too long: 10370 chars)\n"
     ]
    },
    {
     "name": "stderr",
     "output_type": "stream",
     "text": [
      "Translating:  14%|\u001b[32m█▍        \u001b[0m| 1424/10000 [00:38<08:03, 17.74it/s]"
     ]
    },
    {
     "name": "stdout",
     "output_type": "stream",
     "text": [
      "Skipping poem 1423 (too long: 9714 chars)\n"
     ]
    },
    {
     "name": "stderr",
     "output_type": "stream",
     "text": [
      "Translating:  15%|\u001b[32m█▍        \u001b[0m| 1470/10000 [00:43<16:15,  8.75it/s]"
     ]
    },
    {
     "name": "stdout",
     "output_type": "stream",
     "text": [
      "Skipping poem 1468 (too long: 17859 chars)\n"
     ]
    },
    {
     "name": "stderr",
     "output_type": "stream",
     "text": [
      "Translating:  15%|\u001b[32m█▍        \u001b[0m| 1487/10000 [00:46<20:07,  7.05it/s]"
     ]
    },
    {
     "name": "stdout",
     "output_type": "stream",
     "text": [
      "Skipping poem 1486 (too long: 9083 chars)\n"
     ]
    },
    {
     "name": "stderr",
     "output_type": "stream",
     "text": [
      "Translating:  15%|\u001b[32m█▌        \u001b[0m| 1505/10000 [00:47<07:58, 17.76it/s]"
     ]
    },
    {
     "name": "stdout",
     "output_type": "stream",
     "text": [
      "Skipping poem 1498 (too long: 20027 chars)\n"
     ]
    },
    {
     "name": "stderr",
     "output_type": "stream",
     "text": [
      "Translating:  15%|\u001b[32m█▌        \u001b[0m| 1539/10000 [00:52<19:57,  7.07it/s]"
     ]
    },
    {
     "name": "stdout",
     "output_type": "stream",
     "text": [
      "Skipping poem 1537 (too long: 14440 chars)\n"
     ]
    },
    {
     "name": "stderr",
     "output_type": "stream",
     "text": [
      "Translating:  16%|\u001b[32m█▌        \u001b[0m| 1557/10000 [00:53<13:01, 10.80it/s]"
     ]
    },
    {
     "name": "stdout",
     "output_type": "stream",
     "text": [
      "Skipping poem 1555 (too long: 12715 chars)\n"
     ]
    },
    {
     "name": "stderr",
     "output_type": "stream",
     "text": [
      "Translating:  16%|\u001b[32m█▌        \u001b[0m| 1595/10000 [00:55<06:47, 20.64it/s]"
     ]
    },
    {
     "name": "stdout",
     "output_type": "stream",
     "text": [
      "Skipping poem 1589 (too long: 8650 chars)\n",
      "Skipping poem 1590 (too long: 8581 chars)\n"
     ]
    },
    {
     "name": "stderr",
     "output_type": "stream",
     "text": [
      "Translating:  16%|\u001b[32m█▌        \u001b[0m| 1619/10000 [00:56<05:59, 23.31it/s]"
     ]
    },
    {
     "name": "stdout",
     "output_type": "stream",
     "text": [
      "Skipping poem 1617 (too long: 17574 chars)\n"
     ]
    },
    {
     "name": "stderr",
     "output_type": "stream",
     "text": [
      "Translating:  17%|\u001b[32m█▋        \u001b[0m| 1651/10000 [00:59<11:46, 11.81it/s]"
     ]
    },
    {
     "name": "stdout",
     "output_type": "stream",
     "text": [
      "Skipping poem 1650 (too long: 12667 chars)\n"
     ]
    },
    {
     "name": "stderr",
     "output_type": "stream",
     "text": [
      "Translating:  17%|\u001b[32m█▋        \u001b[0m| 1677/10000 [01:03<32:00,  4.33it/s]"
     ]
    },
    {
     "name": "stdout",
     "output_type": "stream",
     "text": [
      "Skipping poem 1675 (too long: 8971 chars)\n"
     ]
    },
    {
     "name": "stderr",
     "output_type": "stream",
     "text": [
      "Translating:  18%|\u001b[32m█▊        \u001b[0m| 1753/10000 [01:12<14:44,  9.33it/s]"
     ]
    },
    {
     "name": "stdout",
     "output_type": "stream",
     "text": [
      "Skipping poem 1748 (too long: 11759 chars)\n"
     ]
    },
    {
     "name": "stderr",
     "output_type": "stream",
     "text": [
      "Translating:  18%|\u001b[32m█▊        \u001b[0m| 1755/10000 [01:12<16:53,  8.13it/s]"
     ]
    },
    {
     "name": "stdout",
     "output_type": "stream",
     "text": [
      "Skipping poem 1753 (too long: 14541 chars)\n"
     ]
    },
    {
     "name": "stderr",
     "output_type": "stream",
     "text": [
      "Translating:  18%|\u001b[32m█▊        \u001b[0m| 1765/10000 [01:13<13:30, 10.17it/s]"
     ]
    },
    {
     "name": "stdout",
     "output_type": "stream",
     "text": [
      "Skipping poem 1764 (too long: 25584 chars)\n"
     ]
    },
    {
     "name": "stderr",
     "output_type": "stream",
     "text": [
      "Translating:  18%|\u001b[32m█▊        \u001b[0m| 1773/10000 [01:15<27:45,  4.94it/s]"
     ]
    },
    {
     "name": "stdout",
     "output_type": "stream",
     "text": [
      "Skipping poem 1771 (too long: 9041 chars)\n"
     ]
    },
    {
     "name": "stderr",
     "output_type": "stream",
     "text": [
      "Translating:  18%|\u001b[32m█▊        \u001b[0m| 1787/10000 [01:16<16:41,  8.20it/s]"
     ]
    },
    {
     "name": "stdout",
     "output_type": "stream",
     "text": [
      "Skipping poem 1786 (too long: 13611 chars)\n"
     ]
    },
    {
     "name": "stderr",
     "output_type": "stream",
     "text": [
      "Translating:  18%|\u001b[32m█▊        \u001b[0m| 1805/10000 [01:18<16:37,  8.21it/s]"
     ]
    },
    {
     "name": "stdout",
     "output_type": "stream",
     "text": [
      "Skipping poem 1801 (too long: 8773 chars)\n",
      "Skipping poem 1804 (too long: 16589 chars)\n"
     ]
    },
    {
     "name": "stderr",
     "output_type": "stream",
     "text": [
      "Translating:  18%|\u001b[32m█▊        \u001b[0m| 1826/10000 [01:19<08:45, 15.55it/s]"
     ]
    },
    {
     "name": "stdout",
     "output_type": "stream",
     "text": [
      "Skipping poem 1822 (too long: 12006 chars)\n",
      "Skipping poem 1825 (too long: 11833 chars)\n",
      "Skipping poem 1826 (too long: 25068 chars)\n"
     ]
    },
    {
     "name": "stderr",
     "output_type": "stream",
     "text": [
      "Translating:  18%|\u001b[32m█▊        \u001b[0m| 1829/10000 [01:20<08:22, 16.27it/s]"
     ]
    },
    {
     "name": "stdout",
     "output_type": "stream",
     "text": [
      "Skipping poem 1828 (too long: 13839 chars)\n"
     ]
    },
    {
     "name": "stderr",
     "output_type": "stream",
     "text": [
      "Translating:  18%|\u001b[32m█▊        \u001b[0m| 1835/10000 [01:20<11:15, 12.08it/s]"
     ]
    },
    {
     "name": "stdout",
     "output_type": "stream",
     "text": [
      "Skipping poem 1835 (too long: 9873 chars)\n"
     ]
    },
    {
     "name": "stderr",
     "output_type": "stream",
     "text": [
      "Translating:  19%|\u001b[32m█▊        \u001b[0m| 1867/10000 [01:23<08:42, 15.56it/s]"
     ]
    },
    {
     "name": "stdout",
     "output_type": "stream",
     "text": [
      "Skipping poem 1866 (too long: 16469 chars)\n",
      "Skipping poem 1867 (too long: 24163 chars)\n",
      "Skipping poem 1868 (too long: 19512 chars)\n",
      "Skipping poem 1869 (too long: 23122 chars)\n",
      "Skipping poem 1870 (too long: 25193 chars)\n",
      "Skipping poem 1871 (too long: 31001 chars)\n"
     ]
    },
    {
     "name": "stderr",
     "output_type": "stream",
     "text": [
      "Translating:  23%|\u001b[32m██▎       \u001b[0m| 2288/10000 [01:49<17:38,  7.29it/s]"
     ]
    },
    {
     "name": "stdout",
     "output_type": "stream",
     "text": [
      "Skipping poem 2287 (too long: 19369 chars)\n"
     ]
    },
    {
     "name": "stderr",
     "output_type": "stream",
     "text": [
      "Translating:  24%|\u001b[32m██▍       \u001b[0m| 2376/10000 [01:55<12:29, 10.17it/s]"
     ]
    },
    {
     "name": "stdout",
     "output_type": "stream",
     "text": [
      "Skipping poem 2375 (too long: 18343 chars)\n"
     ]
    },
    {
     "name": "stderr",
     "output_type": "stream",
     "text": [
      "Translating:  24%|\u001b[32m██▍       \u001b[0m| 2449/10000 [02:08<30:40,  4.10it/s]"
     ]
    },
    {
     "name": "stdout",
     "output_type": "stream",
     "text": [
      "Skipping poem 2448 (too long: 9671 chars)\n"
     ]
    },
    {
     "name": "stderr",
     "output_type": "stream",
     "text": [
      "Translating:  29%|\u001b[32m██▉       \u001b[0m| 2891/10000 [02:44<03:36, 32.88it/s]"
     ]
    },
    {
     "name": "stdout",
     "output_type": "stream",
     "text": [
      "Skipping poem 2890 (too long: 8741 chars)\n"
     ]
    },
    {
     "name": "stderr",
     "output_type": "stream",
     "text": [
      "Translating:  29%|\u001b[32m██▉       \u001b[0m| 2933/10000 [02:45<03:51, 30.55it/s]"
     ]
    },
    {
     "name": "stdout",
     "output_type": "stream",
     "text": [
      "Skipping poem 2931 (too long: 31111 chars)\n",
      "Skipping poem 2932 (too long: 34158 chars)\n",
      "Skipping poem 2933 (too long: 26583 chars)\n",
      "Skipping poem 2934 (too long: 33443 chars)\n",
      "Skipping poem 2935 (too long: 32220 chars)\n",
      "Skipping poem 2936 (too long: 39776 chars)\n",
      "Skipping poem 2937 (too long: 42972 chars)\n",
      "Skipping poem 2938 (too long: 29773 chars)\n",
      "Skipping poem 2939 (too long: 35199 chars)\n",
      "Skipping poem 2940 (too long: 27302 chars)\n",
      "Skipping poem 2941 (too long: 30130 chars)\n",
      "Skipping poem 2942 (too long: 37159 chars)\n",
      "Skipping poem 2943 (too long: 28102 chars)\n",
      "Skipping poem 2944 (too long: 27473 chars)\n",
      "Skipping poem 2945 (too long: 22787 chars)\n",
      "Skipping poem 2946 (too long: 26306 chars)\n",
      "Skipping poem 2947 (too long: 33550 chars)\n",
      "Skipping poem 2948 (too long: 36764 chars)\n",
      "Skipping poem 2949 (too long: 46349 chars)\n",
      "Skipping poem 2950 (too long: 50908 chars)\n",
      "Skipping poem 2951 (too long: 17665 chars)\n"
     ]
    },
    {
     "name": "stderr",
     "output_type": "stream",
     "text": [
      "Translating:  30%|\u001b[32m██▉       \u001b[0m| 2955/10000 [02:45<02:36, 45.03it/s]"
     ]
    },
    {
     "name": "stdout",
     "output_type": "stream",
     "text": [
      "Skipping poem 2955 (too long: 12926 chars)\n"
     ]
    },
    {
     "name": "stderr",
     "output_type": "stream",
     "text": [
      "Translating:  30%|\u001b[32m██▉       \u001b[0m| 2960/10000 [02:47<07:04, 16.57it/s]"
     ]
    },
    {
     "name": "stdout",
     "output_type": "stream",
     "text": [
      "Skipping poem 2959 (too long: 9746 chars)\n",
      "Skipping poem 2960 (too long: 10319 chars)\n"
     ]
    },
    {
     "name": "stderr",
     "output_type": "stream",
     "text": [
      "Translating:  30%|\u001b[32m██▉       \u001b[0m| 2977/10000 [02:49<15:55,  7.35it/s]"
     ]
    },
    {
     "name": "stdout",
     "output_type": "stream",
     "text": [
      "Skipping poem 2973 (too long: 13660 chars)\n"
     ]
    },
    {
     "name": "stderr",
     "output_type": "stream",
     "text": [
      "Translating:  30%|\u001b[32m██▉       \u001b[0m| 2979/10000 [02:50<16:51,  6.94it/s]"
     ]
    },
    {
     "name": "stdout",
     "output_type": "stream",
     "text": [
      "Skipping poem 2978 (too long: 14142 chars)\n",
      "Skipping poem 2979 (too long: 13231 chars)\n"
     ]
    },
    {
     "name": "stderr",
     "output_type": "stream",
     "text": [
      "Translating:  30%|\u001b[32m██▉       \u001b[0m| 2991/10000 [02:51<13:07,  8.90it/s]"
     ]
    },
    {
     "name": "stdout",
     "output_type": "stream",
     "text": [
      "Skipping poem 2989 (too long: 12435 chars)\n"
     ]
    },
    {
     "name": "stderr",
     "output_type": "stream",
     "text": [
      "Translating:  30%|\u001b[32m██▉       \u001b[0m| 2999/10000 [02:52<15:15,  7.65it/s]"
     ]
    },
    {
     "name": "stdout",
     "output_type": "stream",
     "text": [
      "Skipping poem 2998 (too long: 8733 chars)\n"
     ]
    },
    {
     "name": "stderr",
     "output_type": "stream",
     "text": [
      "Translating:  30%|\u001b[32m███       \u001b[0m| 3006/10000 [02:53<29:21,  3.97it/s]"
     ]
    },
    {
     "name": "stdout",
     "output_type": "stream",
     "text": [
      "Skipping poem 3005 (too long: 11038 chars)\n"
     ]
    },
    {
     "name": "stderr",
     "output_type": "stream",
     "text": [
      "Translating:  30%|\u001b[32m███       \u001b[0m| 3013/10000 [02:54<21:57,  5.30it/s]"
     ]
    },
    {
     "name": "stdout",
     "output_type": "stream",
     "text": [
      "Skipping poem 3012 (too long: 10681 chars)\n"
     ]
    },
    {
     "name": "stderr",
     "output_type": "stream",
     "text": [
      "Translating:  30%|\u001b[32m███       \u001b[0m| 3037/10000 [03:00<11:38,  9.97it/s]"
     ]
    },
    {
     "name": "stdout",
     "output_type": "stream",
     "text": [
      "Skipping poem 3031 (too long: 19236 chars)\n"
     ]
    },
    {
     "name": "stderr",
     "output_type": "stream",
     "text": [
      "Translating:  30%|\u001b[32m███       \u001b[0m| 3041/10000 [03:01<10:55, 10.62it/s]"
     ]
    },
    {
     "name": "stdout",
     "output_type": "stream",
     "text": [
      "Skipping poem 3037 (too long: 10052 chars)\n"
     ]
    },
    {
     "name": "stderr",
     "output_type": "stream",
     "text": [
      "Translating:  30%|\u001b[32m███       \u001b[0m| 3045/10000 [03:03<31:29,  3.68it/s]"
     ]
    },
    {
     "name": "stdout",
     "output_type": "stream",
     "text": [
      "Skipping poem 3044 (too long: 18153 chars)\n"
     ]
    },
    {
     "name": "stderr",
     "output_type": "stream",
     "text": [
      "Translating:  31%|\u001b[32m███       \u001b[0m| 3053/10000 [03:05<26:36,  4.35it/s]"
     ]
    },
    {
     "name": "stdout",
     "output_type": "stream",
     "text": [
      "Skipping poem 3052 (too long: 10744 chars)\n"
     ]
    },
    {
     "name": "stderr",
     "output_type": "stream",
     "text": [
      "Translating:  31%|\u001b[32m███       \u001b[0m| 3075/10000 [03:08<19:58,  5.78it/s]"
     ]
    },
    {
     "name": "stdout",
     "output_type": "stream",
     "text": [
      "Skipping poem 3072 (too long: 10073 chars)\n",
      "Skipping poem 3074 (too long: 13574 chars)\n",
      "Skipping poem 3075 (too long: 19510 chars)\n"
     ]
    },
    {
     "name": "stderr",
     "output_type": "stream",
     "text": [
      "Translating:  31%|\u001b[32m███       \u001b[0m| 3093/10000 [03:09<09:23, 12.25it/s]"
     ]
    },
    {
     "name": "stdout",
     "output_type": "stream",
     "text": [
      "Skipping poem 3088 (too long: 9266 chars)\n"
     ]
    },
    {
     "name": "stderr",
     "output_type": "stream",
     "text": [
      "Translating:  31%|\u001b[32m███       \u001b[0m| 3098/10000 [03:10<12:27,  9.23it/s]"
     ]
    },
    {
     "name": "stdout",
     "output_type": "stream",
     "text": [
      "Skipping poem 3094 (too long: 11568 chars)\n",
      "Skipping poem 3097 (too long: 9881 chars)\n"
     ]
    },
    {
     "name": "stderr",
     "output_type": "stream",
     "text": [
      "Translating:  31%|\u001b[32m███       \u001b[0m| 3103/10000 [03:11<11:09, 10.30it/s]"
     ]
    },
    {
     "name": "stdout",
     "output_type": "stream",
     "text": [
      "Skipping poem 3100 (too long: 10721 chars)\n"
     ]
    },
    {
     "name": "stderr",
     "output_type": "stream",
     "text": [
      "Translating:  31%|\u001b[32m███       \u001b[0m| 3108/10000 [03:12<16:08,  7.12it/s]"
     ]
    },
    {
     "name": "stdout",
     "output_type": "stream",
     "text": [
      "Skipping poem 3107 (too long: 13255 chars)\n"
     ]
    },
    {
     "name": "stderr",
     "output_type": "stream",
     "text": [
      "Translating:  31%|\u001b[32m███       \u001b[0m| 3116/10000 [03:12<09:16, 12.38it/s]"
     ]
    },
    {
     "name": "stdout",
     "output_type": "stream",
     "text": [
      "Skipping poem 3110 (too long: 11074 chars)\n",
      "Skipping poem 3115 (too long: 17360 chars)\n"
     ]
    },
    {
     "name": "stderr",
     "output_type": "stream",
     "text": [
      "Translating:  31%|\u001b[32m███       \u001b[0m| 3123/10000 [03:12<07:52, 14.57it/s]"
     ]
    },
    {
     "name": "stdout",
     "output_type": "stream",
     "text": [
      "Skipping poem 3119 (too long: 18101 chars)\n",
      "Skipping poem 3122 (too long: 8525 chars)\n"
     ]
    },
    {
     "name": "stderr",
     "output_type": "stream",
     "text": [
      "Translating:  31%|\u001b[32m███▏      \u001b[0m| 3133/10000 [03:13<09:27, 12.11it/s]"
     ]
    },
    {
     "name": "stdout",
     "output_type": "stream",
     "text": [
      "Skipping poem 3129 (too long: 8746 chars)\n"
     ]
    },
    {
     "name": "stderr",
     "output_type": "stream",
     "text": [
      "Translating:  31%|\u001b[32m███▏      \u001b[0m| 3139/10000 [03:14<12:29,  9.16it/s]"
     ]
    },
    {
     "name": "stdout",
     "output_type": "stream",
     "text": [
      "Skipping poem 3136 (too long: 17523 chars)\n",
      "Skipping poem 3138 (too long: 11678 chars)\n",
      "Skipping poem 3139 (too long: 34525 chars)\n"
     ]
    },
    {
     "name": "stderr",
     "output_type": "stream",
     "text": [
      "Translating:  31%|\u001b[32m███▏      \u001b[0m| 3145/10000 [03:15<08:45, 13.05it/s]"
     ]
    },
    {
     "name": "stdout",
     "output_type": "stream",
     "text": [
      "Skipping poem 3141 (too long: 11904 chars)\n",
      "Skipping poem 3144 (too long: 9245 chars)\n"
     ]
    },
    {
     "name": "stderr",
     "output_type": "stream",
     "text": [
      "Translating:  32%|\u001b[32m███▏      \u001b[0m| 3151/10000 [03:15<11:06, 10.28it/s]"
     ]
    },
    {
     "name": "stdout",
     "output_type": "stream",
     "text": [
      "Skipping poem 3148 (too long: 14638 chars)\n"
     ]
    },
    {
     "name": "stderr",
     "output_type": "stream",
     "text": [
      "Translating:  34%|\u001b[32m███▍      \u001b[0m| 3399/10000 [03:28<08:15, 13.33it/s]"
     ]
    },
    {
     "name": "stdout",
     "output_type": "stream",
     "text": [
      "Skipping poem 3396 (too long: 13407 chars)\n"
     ]
    },
    {
     "name": "stderr",
     "output_type": "stream",
     "text": [
      "Translating:  34%|\u001b[32m███▍      \u001b[0m| 3443/10000 [03:34<12:53,  8.47it/s]"
     ]
    },
    {
     "name": "stdout",
     "output_type": "stream",
     "text": [
      "Skipping poem 3439 (too long: 9614 chars)\n"
     ]
    },
    {
     "name": "stderr",
     "output_type": "stream",
     "text": [
      "Translating:  35%|\u001b[32m███▍      \u001b[0m| 3457/10000 [03:35<09:32, 11.42it/s]"
     ]
    },
    {
     "name": "stdout",
     "output_type": "stream",
     "text": [
      "Skipping poem 3451 (too long: 9043 chars)\n"
     ]
    },
    {
     "name": "stderr",
     "output_type": "stream",
     "text": [
      "Translating:  35%|\u001b[32m███▌      \u001b[0m| 3545/10000 [03:45<10:34, 10.17it/s]"
     ]
    },
    {
     "name": "stdout",
     "output_type": "stream",
     "text": [
      "Skipping poem 3544 (too long: 12830 chars)\n",
      "Skipping poem 3545 (too long: 9496 chars)\n"
     ]
    },
    {
     "name": "stderr",
     "output_type": "stream",
     "text": [
      "Translating:  36%|\u001b[32m███▌      \u001b[0m| 3606/10000 [03:49<06:25, 16.60it/s]"
     ]
    },
    {
     "name": "stdout",
     "output_type": "stream",
     "text": [
      "Skipping poem 3605 (too long: 10075 chars)\n"
     ]
    },
    {
     "name": "stderr",
     "output_type": "stream",
     "text": [
      "Translating:  36%|\u001b[32m███▋      \u001b[0m| 3632/10000 [03:50<03:15, 32.56it/s]"
     ]
    },
    {
     "name": "stdout",
     "output_type": "stream",
     "text": [
      "Skipping poem 3631 (too long: 10182 chars)\n"
     ]
    },
    {
     "name": "stderr",
     "output_type": "stream",
     "text": [
      "Translating:  37%|\u001b[32m███▋      \u001b[0m| 3697/10000 [03:53<04:13, 24.85it/s]"
     ]
    },
    {
     "name": "stdout",
     "output_type": "stream",
     "text": [
      "Skipping poem 3696 (too long: 11396 chars)\n"
     ]
    },
    {
     "name": "stderr",
     "output_type": "stream",
     "text": [
      "Translating:  38%|\u001b[32m███▊      \u001b[0m| 3839/10000 [03:59<03:45, 27.36it/s]"
     ]
    },
    {
     "name": "stdout",
     "output_type": "stream",
     "text": [
      "Skipping poem 3835 (too long: 8978 chars)\n"
     ]
    },
    {
     "name": "stderr",
     "output_type": "stream",
     "text": [
      "Translating:  39%|\u001b[32m███▉      \u001b[0m| 3909/10000 [04:06<09:33, 10.63it/s]"
     ]
    },
    {
     "name": "stdout",
     "output_type": "stream",
     "text": [
      "Skipping poem 3902 (too long: 9444 chars)\n",
      "Skipping poem 3903 (too long: 10810 chars)\n"
     ]
    },
    {
     "name": "stderr",
     "output_type": "stream",
     "text": [
      "Translating:  48%|\u001b[32m████▊     \u001b[0m| 4848/10000 [04:24<02:10, 39.43it/s]"
     ]
    },
    {
     "name": "stdout",
     "output_type": "stream",
     "text": [
      "Skipping poem 4842 (too long: 15144 chars)\n"
     ]
    },
    {
     "name": "stderr",
     "output_type": "stream",
     "text": [
      "Translating:  49%|\u001b[32m████▊     \u001b[0m| 4868/10000 [04:25<04:51, 17.59it/s]"
     ]
    },
    {
     "name": "stdout",
     "output_type": "stream",
     "text": [
      "Skipping poem 4867 (too long: 10494 chars)\n"
     ]
    },
    {
     "name": "stderr",
     "output_type": "stream",
     "text": [
      "Translating:  49%|\u001b[32m████▉     \u001b[0m| 4882/10000 [04:26<04:18, 19.78it/s]"
     ]
    },
    {
     "name": "stdout",
     "output_type": "stream",
     "text": [
      "Skipping poem 4880 (too long: 16012 chars)\n"
     ]
    },
    {
     "name": "stderr",
     "output_type": "stream",
     "text": [
      "Translating:  49%|\u001b[32m████▉     \u001b[0m| 4894/10000 [04:28<08:24, 10.11it/s]"
     ]
    },
    {
     "name": "stdout",
     "output_type": "stream",
     "text": [
      "Skipping poem 4893 (too long: 12289 chars)\n"
     ]
    },
    {
     "name": "stderr",
     "output_type": "stream",
     "text": [
      "Translating:  50%|\u001b[32m█████     \u001b[0m| 5022/10000 [04:39<15:12,  5.46it/s]"
     ]
    },
    {
     "name": "stdout",
     "output_type": "stream",
     "text": [
      "Skipping poem 5021 (too long: 10906 chars)\n"
     ]
    },
    {
     "name": "stderr",
     "output_type": "stream",
     "text": [
      "Translating:  52%|\u001b[32m█████▏    \u001b[0m| 5211/10000 [04:48<03:58, 20.09it/s]"
     ]
    },
    {
     "name": "stdout",
     "output_type": "stream",
     "text": [
      "Skipping poem 5209 (too long: 40546 chars)\n"
     ]
    },
    {
     "name": "stderr",
     "output_type": "stream",
     "text": [
      "Translating:  52%|\u001b[32m█████▏    \u001b[0m| 5222/10000 [04:50<09:23,  8.48it/s]"
     ]
    },
    {
     "name": "stdout",
     "output_type": "stream",
     "text": [
      "Skipping poem 5221 (too long: 26068 chars)\n"
     ]
    },
    {
     "name": "stderr",
     "output_type": "stream",
     "text": [
      "Translating:  57%|\u001b[32m█████▋    \u001b[0m| 5743/10000 [05:07<06:05, 11.64it/s]"
     ]
    },
    {
     "name": "stdout",
     "output_type": "stream",
     "text": [
      "Skipping poem 5742 (too long: 20767 chars)\n"
     ]
    },
    {
     "name": "stderr",
     "output_type": "stream",
     "text": [
      "Translating:  58%|\u001b[32m█████▊    \u001b[0m| 5754/10000 [05:08<05:08, 13.78it/s]"
     ]
    },
    {
     "name": "stdout",
     "output_type": "stream",
     "text": [
      "Skipping poem 5753 (too long: 12891 chars)\n"
     ]
    },
    {
     "name": "stderr",
     "output_type": "stream",
     "text": [
      "Translating:  58%|\u001b[32m█████▊    \u001b[0m| 5814/10000 [05:13<07:45,  8.98it/s]"
     ]
    },
    {
     "name": "stdout",
     "output_type": "stream",
     "text": [
      "Skipping poem 5813 (too long: 11725 chars)\n"
     ]
    },
    {
     "name": "stderr",
     "output_type": "stream",
     "text": [
      "Translating:  59%|\u001b[32m█████▊    \u001b[0m| 5851/10000 [05:14<02:53, 23.96it/s]"
     ]
    },
    {
     "name": "stdout",
     "output_type": "stream",
     "text": [
      "Skipping poem 5850 (too long: 12995 chars)\n"
     ]
    },
    {
     "name": "stderr",
     "output_type": "stream",
     "text": [
      "Translating:  59%|\u001b[32m█████▉    \u001b[0m| 5896/10000 [05:16<04:04, 16.76it/s]"
     ]
    },
    {
     "name": "stdout",
     "output_type": "stream",
     "text": [
      "Skipping poem 5895 (too long: 8844 chars)\n"
     ]
    },
    {
     "name": "stderr",
     "output_type": "stream",
     "text": [
      "Translating:  59%|\u001b[32m█████▉    \u001b[0m| 5909/10000 [05:17<02:45, 24.71it/s]"
     ]
    },
    {
     "name": "stdout",
     "output_type": "stream",
     "text": [
      "Skipping poem 5908 (too long: 18800 chars)\n"
     ]
    },
    {
     "name": "stderr",
     "output_type": "stream",
     "text": [
      "Translating:  59%|\u001b[32m█████▉    \u001b[0m| 5927/10000 [05:17<02:50, 23.95it/s]"
     ]
    },
    {
     "name": "stdout",
     "output_type": "stream",
     "text": [
      "Skipping poem 5926 (too long: 14147 chars)\n"
     ]
    },
    {
     "name": "stderr",
     "output_type": "stream",
     "text": [
      "Translating:  60%|\u001b[32m█████▉    \u001b[0m| 5999/10000 [05:22<03:07, 21.37it/s]"
     ]
    },
    {
     "name": "stdout",
     "output_type": "stream",
     "text": [
      "Skipping poem 5998 (too long: 8841 chars)\n"
     ]
    },
    {
     "name": "stderr",
     "output_type": "stream",
     "text": [
      "Translating:  70%|\u001b[32m███████   \u001b[0m| 7037/10000 [06:03<00:47, 62.78it/s] "
     ]
    },
    {
     "name": "stdout",
     "output_type": "stream",
     "text": [
      "Skipping poem 7035 (too long: 8750 chars)\n"
     ]
    },
    {
     "name": "stderr",
     "output_type": "stream",
     "text": [
      "Translating:  88%|\u001b[32m████████▊ \u001b[0m| 8797/10000 [09:08<01:49, 11.01it/s]"
     ]
    },
    {
     "name": "stdout",
     "output_type": "stream",
     "text": [
      "Skipping poem 8796 (too long: 8926 chars)\n",
      "Skipping poem 8797 (too long: 19904 chars)\n",
      "Skipping poem 8798 (too long: 10106 chars)\n",
      "Skipping poem 8799 (too long: 9404 chars)\n",
      "Skipping poem 8800 (too long: 9038 chars)\n",
      "Skipping poem 8801 (too long: 16666 chars)\n",
      "Skipping poem 8802 (too long: 10729 chars)\n",
      "Skipping poem 8803 (too long: 10003 chars)\n",
      "Skipping poem 8804 (too long: 9245 chars)\n",
      "Skipping poem 8805 (too long: 14444 chars)\n",
      "Skipping poem 8806 (too long: 19683 chars)\n",
      "Skipping poem 8807 (too long: 15605 chars)\n",
      "Skipping poem 8808 (too long: 8969 chars)\n",
      "Skipping poem 8809 (too long: 9054 chars)\n",
      "Skipping poem 8810 (too long: 8646 chars)\n",
      "Skipping poem 8811 (too long: 9834 chars)\n"
     ]
    },
    {
     "name": "stderr",
     "output_type": "stream",
     "text": [
      "Translating:  90%|\u001b[32m█████████ \u001b[0m| 9011/10000 [09:49<02:02,  8.06it/s]"
     ]
    },
    {
     "name": "stdout",
     "output_type": "stream",
     "text": [
      "Skipping poem 9010 (too long: 9141 chars)\n"
     ]
    },
    {
     "name": "stderr",
     "output_type": "stream",
     "text": [
      "Translating:  93%|\u001b[32m█████████▎\u001b[0m| 9263/10000 [10:22<01:59,  6.18it/s]"
     ]
    },
    {
     "name": "stdout",
     "output_type": "stream",
     "text": [
      "Skipping poem 9262 (too long: 9416 chars)\n"
     ]
    },
    {
     "name": "stderr",
     "output_type": "stream",
     "text": [
      "Translating:  93%|\u001b[32m█████████▎\u001b[0m| 9269/10000 [10:23<02:06,  5.79it/s]"
     ]
    },
    {
     "name": "stdout",
     "output_type": "stream",
     "text": [
      "Skipping poem 9268 (too long: 12179 chars)\n"
     ]
    },
    {
     "name": "stderr",
     "output_type": "stream",
     "text": [
      "Translating:  93%|\u001b[32m█████████▎\u001b[0m| 9331/10000 [10:38<02:45,  4.03it/s]"
     ]
    },
    {
     "name": "stdout",
     "output_type": "stream",
     "text": [
      "Skipping poem 9330 (too long: 10096 chars)\n"
     ]
    },
    {
     "name": "stderr",
     "output_type": "stream",
     "text": [
      "Translating:  94%|\u001b[32m█████████▍\u001b[0m| 9392/10000 [10:52<02:20,  4.32it/s]"
     ]
    },
    {
     "name": "stdout",
     "output_type": "stream",
     "text": [
      "Skipping poem 9391 (too long: 9233 chars)\n"
     ]
    },
    {
     "name": "stderr",
     "output_type": "stream",
     "text": [
      "Translating:  96%|\u001b[32m█████████▌\u001b[0m| 9569/10000 [11:52<01:41,  4.26it/s]"
     ]
    },
    {
     "name": "stdout",
     "output_type": "stream",
     "text": [
      "Skipping poem 9568 (too long: 15617 chars)\n"
     ]
    },
    {
     "name": "stderr",
     "output_type": "stream",
     "text": [
      "Translating:  96%|\u001b[32m█████████▌\u001b[0m| 9579/10000 [11:54<01:25,  4.91it/s]"
     ]
    },
    {
     "name": "stdout",
     "output_type": "stream",
     "text": [
      "Skipping poem 9578 (too long: 10433 chars)\n"
     ]
    },
    {
     "name": "stderr",
     "output_type": "stream",
     "text": [
      "Translating:  97%|\u001b[32m█████████▋\u001b[0m| 9687/10000 [12:18<01:08,  4.56it/s]"
     ]
    },
    {
     "name": "stdout",
     "output_type": "stream",
     "text": [
      "Skipping poem 9686 (too long: 13875 chars)\n"
     ]
    },
    {
     "name": "stderr",
     "output_type": "stream",
     "text": [
      "Translating:  97%|\u001b[32m█████████▋\u001b[0m| 9692/10000 [12:18<01:00,  5.13it/s]"
     ]
    },
    {
     "name": "stdout",
     "output_type": "stream",
     "text": [
      "Skipping poem 9691 (too long: 14070 chars)\n"
     ]
    },
    {
     "name": "stderr",
     "output_type": "stream",
     "text": [
      "Translating: 100%|\u001b[32m██████████\u001b[0m| 10000/10000 [13:26<00:00, 12.40it/s]\n"
     ]
    }
   ],
   "source": [
    "sample = poems_df.head(10000)\n",
    "de_translated = await translate_df(sample, src=\"de\", dest=\"en\")"
   ]
  },
  {
   "cell_type": "code",
   "execution_count": 71,
   "id": "eee691d2",
   "metadata": {},
   "outputs": [
    {
     "data": {
      "text/plain": [
       "'Gebohrn, und wiederumb, o Mensch, gebohren werden,\\nErrettet dich vom Tod und hilfft dir in Beschwerden.'"
      ]
     },
     "execution_count": 71,
     "metadata": {},
     "output_type": "execute_result"
    }
   ],
   "source": [
    "sample[\"text\"].iloc[0]"
   ]
  },
  {
   "cell_type": "code",
   "execution_count": 70,
   "id": "aafcfbb2",
   "metadata": {},
   "outputs": [
    {
     "data": {
      "text/plain": [
       "'Drum, and again, o human, being born,\\nSalvents you from death and help you in symptoms.'"
      ]
     },
     "execution_count": 70,
     "metadata": {},
     "output_type": "execute_result"
    }
   ],
   "source": [
    "de_translated[\"text\"][0]"
   ]
  },
  {
   "cell_type": "markdown",
   "id": "19a2e8eb",
   "metadata": {},
   "source": [
    "### Saving"
   ]
  },
  {
   "cell_type": "code",
   "execution_count": null,
   "id": "314cf111",
   "metadata": {},
   "outputs": [],
   "source": [
    "new_poems_df = pd.concat([english_poems, de_translated], ignore_index=True)"
   ]
  },
  {
   "cell_type": "code",
   "execution_count": 76,
   "id": "42694638",
   "metadata": {},
   "outputs": [],
   "source": [
    "new_poems_df.to_parquet(DATA + \"en_de.parquet\", index=False)"
   ]
  },
  {
   "cell_type": "markdown",
   "id": "bb61fcc1",
   "metadata": {},
   "source": [
    "# Data augmentation (Classification)\n",
    "\n",
    "Transform the original dataset with new samples generated through different methods. Most libraries like textattack, nlpaug, are not designed for german sentences.\n",
    "\n",
    "Source: [Text data augmentations: Permutation, antonyms and negation\n",
    "](https://www.sciencedirect.com/science/article/abs/pii/S0957417421002104)"
   ]
  },
  {
   "cell_type": "markdown",
   "id": "cf0ec2d8",
   "metadata": {},
   "source": [
    "## Line permutation\n",
    "\n",
    "Check the file `classification/utils.py` for the function `data_augment`. This function shuffles the lines of poems in the same century.\n",
    "\n",
    "\n",
    "The model `classification/logistic_regression/tfidf.ipynb` can be trained with the augmented data."
   ]
  },
  {
   "cell_type": "markdown",
   "id": "20801f53",
   "metadata": {},
   "source": [
    "## Translation to english, textattack augment, and back to german\n",
    "\n",
    "Augmenting with textattack changes proper names and quantities."
   ]
  },
  {
   "cell_type": "code",
   "execution_count": null,
   "id": "1645be86",
   "metadata": {},
   "outputs": [],
   "source": [
    "translator = Translator()"
   ]
  },
  {
   "cell_type": "code",
   "execution_count": null,
   "id": "880fc0ec",
   "metadata": {},
   "outputs": [],
   "source": [
    "transformed_poems = []\n",
    "for index, row in new_poems_df.iterrows():\n",
    "    translated = await translator.translate(row[\"text\"], src=\"de\", dest=\"en\")\n",
    "    translated_row = {\n",
    "        \"title\": row[\"title\"],\n",
    "        \"text\": translated.text,\n",
    "        \"author\": row[\"author\"],\n",
    "        \"creation\": row[\"creation\"]\n",
    "    }\n",
    "    transformed_poems.append(translated_row)\n",
    "\n",
    "translated_df = pd.DataFrame(transformed_poems)"
   ]
  },
  {
   "cell_type": "markdown",
   "id": "2f9aeb3e",
   "metadata": {},
   "source": [
    "## Germanet synonyms\n",
    "\n",
    "GermaNet is a semantic network for german, similar to WordNet. It contains information about the meaning of words and their relationships to each other. It can be used to find semantic relations between words, such as synonyms, and antonyms.\n",
    "\n",
    "Sadly the dataset is not open source and needs to have an authorization to use it."
   ]
  }
 ],
 "metadata": {
  "kernelspec": {
   "display_name": "NLP1",
   "language": "python",
   "name": "python3"
  },
  "language_info": {
   "codemirror_mode": {
    "name": "ipython",
    "version": 3
   },
   "file_extension": ".py",
   "mimetype": "text/x-python",
   "name": "python",
   "nbconvert_exporter": "python",
   "pygments_lexer": "ipython3",
   "version": "3.12.10"
  }
 },
 "nbformat": 4,
 "nbformat_minor": 5
}
