{
 "cells": [
  {
   "cell_type": "code",
   "execution_count": null,
   "id": "188b023f",
   "metadata": {},
   "outputs": [],
   "source": [
    "import re\n",
    "import pandas as pd\n",
    "from datasets import Dataset"
   ]
  },
  {
   "cell_type": "markdown",
   "id": "0e7f583f",
   "metadata": {},
   "source": [
    "## LOAD DATA"
   ]
  },
  {
   "cell_type": "code",
   "execution_count": null,
   "id": "cc24f135",
   "metadata": {},
   "outputs": [],
   "source": [
    "df = pd.read_parquet(\"../classification/data/en_poems.parquet\")\n",
    "df = df.astype({\"title\": \"string\", \"text\": \"string\", \"author\": \"string\"})\n",
    "df.dtypes"
   ]
  },
  {
   "cell_type": "markdown",
   "id": "20858584",
   "metadata": {},
   "source": [
    "## PREPROCESS THE DATA"
   ]
  },
  {
   "cell_type": "code",
   "execution_count": null,
   "id": "d5a73da8",
   "metadata": {},
   "outputs": [],
   "source": [
    "def preprocess_text(text: str) -> list[str]:\n",
    "    text = text.lower()\n",
    "    text = re.sub(r'[^a-z\\s]', '', text) # remove punctuation\n",
    "    tokens = text.split()\n",
    "    return tokens\n",
    "\n",
    "df[\"tokens\"] = df[\"text\"].apply(preprocess_text)\n",
    "df"
   ]
  },
  {
   "cell_type": "code",
   "execution_count": null,
   "id": "bdc299d8",
   "metadata": {},
   "outputs": [],
   "source": [
    "dataset = Dataset.from_pandas(df[[\"text\"]])"
   ]
  },
  {
   "cell_type": "code",
   "execution_count": null,
   "id": "1896bc8a",
   "metadata": {},
   "outputs": [],
   "source": [
    "from transformers import AutoTokenizer\n",
    "\n",
    "tokenizer = AutoTokenizer.from_pretrained(\"gpt2\")\n",
    "tokenizer.pad_token = tokenizer.eos_token\n",
    "\n",
    "def tokenize_function(examples):\n",
    "    return tokenizer(examples[\"text\"], truncation=True, padding=\"max_length\", max_length=128)\n",
    "\n",
    "tokenized_dataset = dataset.map(tokenize_function, batched=True)"
   ]
  },
  {
   "cell_type": "code",
   "execution_count": null,
   "id": "4f3c1a96",
   "metadata": {},
   "outputs": [],
   "source": [
    "from transformers import AutoModelForCausalLM, TrainingArguments, Trainer\n",
    "from transformers import DataCollatorForLanguageModeling\n",
    "\n",
    "\n",
    "data_collator = DataCollatorForLanguageModeling(\n",
    "    tokenizer=tokenizer,\n",
    "    mlm=False\n",
    ")\n",
    "\n",
    "model = AutoModelForCausalLM.from_pretrained(\"gpt2\")\n",
    "model.resize_token_embeddings(len(tokenizer))\n",
    "\n",
    "training_args = TrainingArguments(\n",
    "    output_dir=\"./results\",\n",
    "    eval_strategy=\"epoch\",\n",
    "    learning_rate=2e-5,\n",
    "    per_device_train_batch_size=8,\n",
    "    num_train_epochs=3,\n",
    "    weight_decay=0.01,\n",
    ")\n",
    "\n",
    "trainer = Trainer(\n",
    "    model=model,\n",
    "    args=training_args,\n",
    "    train_dataset=tokenized_dataset,\n",
    "    eval_dataset=tokenized_dataset,\n",
    "    data_collator=data_collator,\n",
    ")\n",
    "\n",
    "trainer.train()"
   ]
  },
  {
   "cell_type": "code",
   "execution_count": null,
   "id": "6188d353",
   "metadata": {},
   "outputs": [],
   "source": [
    "trainer.save_model(\"./gpt2-poem-model\")\n",
    "tokenizer.save_pretrained(\"./gpt2-poem-model\")"
   ]
  },
  {
   "cell_type": "code",
   "execution_count": 23,
   "id": "6b18b7f1",
   "metadata": {},
   "outputs": [
    {
     "name": "stderr",
     "output_type": "stream",
     "text": [
      "Device set to use cuda:0\n",
      "Truncation was not explicitly activated but `max_length` is provided a specific value, please use `truncation=True` to explicitly truncate examples to max length. Defaulting to 'longest_first' truncation strategy. If you encode pairs of sequences (GLUE-style) with the tokenizer you can select this strategy more precisely by providing a specific strategy to `truncation`.\n"
     ]
    },
    {
     "name": "stdout",
     "output_type": "stream",
     "text": [
      "qwioudhjqwoije, a city within a thousand miles,\n",
      "Where the sun shines, like a star-light on a mountain shore\n",
      "Where the waters are flowing, and the waves are breaking,\n",
      "Was a place of wealth, and of fame, and of renown;\n",
      "The first town to break for wealth the river Nile of the Nile,\n",
      "The first city with renown, the first great city built in the world;\n",
      "And it was all but a dream to\n"
     ]
    }
   ],
   "source": [
    "from transformers import pipeline\n",
    "\n",
    "generator = pipeline(\"text-generation\", model=\"./gpt2-poem-model\", tokenizer=\"./gpt2-poem-model\")\n",
    "\n",
    "prompt = \"qwioudhjqwoije\"\n",
    "results = generator(prompt, max_length=100, num_return_sequences=1, do_sample=True, top_k=50, top_p=0.95)\n",
    "\n",
    "print(results[0][\"generated_text\"])"
   ]
  }
 ],
 "metadata": {
  "kernelspec": {
   "display_name": "nlp-pytorch",
   "language": "python",
   "name": "python3"
  },
  "language_info": {
   "codemirror_mode": {
    "name": "ipython",
    "version": 3
   },
   "file_extension": ".py",
   "mimetype": "text/x-python",
   "name": "python",
   "nbconvert_exporter": "python",
   "pygments_lexer": "ipython3",
   "version": "3.10.17"
  }
 },
 "nbformat": 4,
 "nbformat_minor": 5
}
