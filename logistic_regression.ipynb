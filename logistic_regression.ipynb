{
 "cells": [
  {
   "cell_type": "markdown",
   "id": "1d5b7a54",
   "metadata": {},
   "source": [
    "# Poem: Logistic Regression\n",
    "\n",
    "For this project, the text is the feature and the label is the date of the poem.\n",
    "\n",
    "We use logistic regression for a multi-class text classification task.\n",
    "\n",
    "With no preprocessing, the model has 304 targets. We will present the results of different models depending on the preprocessing."
   ]
  },
  {
   "cell_type": "code",
   "execution_count": null,
   "id": "3b6df80b",
   "metadata": {},
   "outputs": [],
   "source": [
    "# If you do not have stopwords\n",
    "import nltk\n",
    "nltk.download(\"stopwords\")\n"
   ]
  },
  {
   "cell_type": "markdown",
   "id": "85557f28",
   "metadata": {},
   "source": [
    "# 🎓 Library"
   ]
  },
  {
   "cell_type": "code",
   "execution_count": null,
   "id": "f6b5f548",
   "metadata": {},
   "outputs": [],
   "source": [
    "# Misc\n",
    "import os\n",
    "import numpy as np\n",
    "import pandas as pd\n",
    "import pickle\n",
    "\n",
    "# Training\n",
    "from nltk.corpus import stopwords\n",
    "\n",
    "from sklearn.feature_extraction.text import TfidfVectorizer\n",
    "from sklearn.model_selection import train_test_split\n",
    "from sklearn.linear_model import LogisticRegression\n",
    "from sklearn.metrics import accuracy_score, classification_report, confusion_matrix, ConfusionMatrixDisplay\n",
    "\n",
    "# Plotting\n",
    "import seaborn as sns\n",
    "import matplotlib.pyplot as plt\n",
    "\n",
    "DATA = \"data/\"\n",
    "\n",
    "if not os.path.exists(DATA):\n",
    "    raise FileNotFoundError(f\"Data directory {DATA} does not exist. Please create it and add the data files.\")"
   ]
  },
  {
   "cell_type": "code",
   "execution_count": null,
   "id": "04e92565",
   "metadata": {},
   "outputs": [],
   "source": [
    "poems_df = pd.read_parquet(DATA + \"de_poems.parquet\")"
   ]
  },
  {
   "cell_type": "code",
   "execution_count": null,
   "id": "b3c5ef42",
   "metadata": {},
   "outputs": [],
   "source": [
    "poems_df.head(3)[\"text\"].values"
   ]
  },
  {
   "cell_type": "markdown",
   "id": "2855fdff",
   "metadata": {},
   "source": [
    "# Model A: Per Century\n",
    "\n",
    "Each poem is mapped to a century.\n",
    "\n",
    "Our feature is `text`, and the label is `creation`.\n",
    "\n",
    "We encode only the features."
   ]
  },
  {
   "cell_type": "markdown",
   "id": "3edf9100",
   "metadata": {},
   "source": [
    "## Step 1: Preprocessing"
   ]
  },
  {
   "cell_type": "code",
   "execution_count": null,
   "id": "b325b345",
   "metadata": {},
   "outputs": [],
   "source": [
    "# Transform all date to centuries, else we have 304 classes\n",
    "poems_century = poems_df.copy()\n",
    "\n",
    "poems_century[\"creation\"] = poems_century[\"creation\"].apply(lambda x: str(int(x)// 100 + 1))"
   ]
  },
  {
   "cell_type": "code",
   "execution_count": null,
   "id": "b1d1ac86",
   "metadata": {},
   "outputs": [],
   "source": [
    "german_stop_words = stopwords.words(\"german\")\n",
    "\n",
    "vectorizer = TfidfVectorizer(stop_words=german_stop_words)\n",
    "\n",
    "x = vectorizer.fit_transform(poems_century[\"text\"])\n",
    "y = poems_century[\"creation\"]"
   ]
  },
  {
   "cell_type": "code",
   "execution_count": null,
   "id": "ac228f09",
   "metadata": {},
   "outputs": [],
   "source": [
    "print(f\"Currently have {len(poems_century)} poems with {len(y.unique())} dates.\")\n",
    "print(f\"Model has {len(vectorizer.get_feature_names_out())} features.\")"
   ]
  },
  {
   "cell_type": "markdown",
   "id": "477b2ef8",
   "metadata": {},
   "source": [
    "## Step 2: Data splitting and model training"
   ]
  },
  {
   "cell_type": "code",
   "execution_count": null,
   "id": "14d6c02a",
   "metadata": {},
   "outputs": [],
   "source": [
    "x_train, x_test, y_train, y_test = train_test_split(x, y, test_size=0.2, random_state=42)"
   ]
  },
  {
   "cell_type": "code",
   "execution_count": null,
   "id": "dbed8207",
   "metadata": {},
   "outputs": [],
   "source": [
    "x_train.shape, x_test.shape, y_train.shape, y_test.shape"
   ]
  },
  {
   "cell_type": "code",
   "execution_count": null,
   "id": "301ea9d9",
   "metadata": {},
   "outputs": [],
   "source": [
    "model = LogisticRegression(random_state=42, solver=\"saga\", verbose=10)\n",
    "model.fit(x_train, y_train)"
   ]
  },
  {
   "cell_type": "markdown",
   "id": "5fb095ad",
   "metadata": {},
   "source": [
    "#### Quick save"
   ]
  },
  {
   "cell_type": "code",
   "execution_count": null,
   "id": "7de62707",
   "metadata": {},
   "outputs": [],
   "source": [
    "pickle.dump(model, open(\"trained/LR_Century_model.pkl\", \"wb\"))"
   ]
  },
  {
   "cell_type": "markdown",
   "id": "b5be0532",
   "metadata": {},
   "source": [
    "## Step 3: Evaluation and finetuning"
   ]
  },
  {
   "cell_type": "code",
   "execution_count": null,
   "id": "e22a7b9c",
   "metadata": {},
   "outputs": [],
   "source": [
    "y_pred = model.predict(x_test)"
   ]
  },
  {
   "cell_type": "code",
   "execution_count": null,
   "id": "c2cc04ae",
   "metadata": {},
   "outputs": [],
   "source": [
    "print(classification_report(y_test,y_pred, zero_division=0))"
   ]
  },
  {
   "cell_type": "code",
   "execution_count": null,
   "id": "52d5c0b2",
   "metadata": {},
   "outputs": [],
   "source": [
    "# Compute confusion matrix\n",
    "cm = confusion_matrix(y_test, y_pred)\n",
    "\n",
    "heat = ConfusionMatrixDisplay(confusion_matrix=cm, display_labels=model.classes_)\n",
    "fig, ax = plt.subplots()  # optional: adjust figure size\n",
    "heat.plot(ax=ax)\n",
    "plt.xticks(rotation=45)\n",
    "plt.show()"
   ]
  },
  {
   "cell_type": "code",
   "execution_count": null,
   "id": "47c9fac5",
   "metadata": {},
   "outputs": [],
   "source": [
    "# Normalize it (row-wise percentages)\n",
    "cm_normalized = cm.astype('float') / cm.sum(axis=1)[:, np.newaxis] * 100\n",
    "\n",
    "# Plot\n",
    "disp = ConfusionMatrixDisplay(confusion_matrix=cm_normalized, display_labels=model.classes_)\n",
    "disp.plot(cmap='Blues', values_format='.2f')  # values_format to control decimal places\n",
    "plt.title('Confusion Matrix (in %)')\n",
    "plt.xticks(rotation=45)\n",
    "plt.show()\n"
   ]
  },
  {
   "cell_type": "code",
   "execution_count": null,
   "id": "177badfa",
   "metadata": {},
   "outputs": [],
   "source": [
    "# Compare the results with the actual y values\n",
    "accuracy = accuracy_score(y_test, y_pred)\n",
    "print(f\"Accuracy: {accuracy:.2f}\")"
   ]
  },
  {
   "cell_type": "markdown",
   "id": "af2723b7",
   "metadata": {},
   "source": [
    "# Model B: Per Movement\n",
    "Each poem is mapped to a German literary movement."
   ]
  },
  {
   "cell_type": "markdown",
   "id": "66404f9a",
   "metadata": {},
   "source": [
    "## Step 1: Preprocessing"
   ]
  },
  {
   "cell_type": "code",
   "execution_count": null,
   "id": "741a192c",
   "metadata": {},
   "outputs": [],
   "source": [
    "# Transform all date to periods, else we have 304 classes\n",
    "from env import get_period\n",
    "poems_movement = poems_df.copy()\n",
    "\n",
    "poems_movement[\"creation\"] = poems_movement[\"creation\"].apply(lambda x: get_period(int(x)))"
   ]
  },
  {
   "cell_type": "code",
   "execution_count": null,
   "id": "5aae8d12",
   "metadata": {},
   "outputs": [],
   "source": [
    "german_stop_words = stopwords.words(\"german\")\n",
    "\n",
    "vectorizer = TfidfVectorizer(stop_words=german_stop_words)\n",
    "\n",
    "x = vectorizer.fit_transform(poems_movement[\"text\"])\n",
    "y = poems_movement[\"creation\"]"
   ]
  },
  {
   "cell_type": "code",
   "execution_count": null,
   "id": "2bec8cf3",
   "metadata": {},
   "outputs": [],
   "source": [
    "print(f\"Currently have {len(poems_movement)} poems with {len(y.unique())} movements.\")\n",
    "print(f\"Model has {len(vectorizer.get_feature_names_out())} features.\")"
   ]
  },
  {
   "cell_type": "markdown",
   "id": "82f63f93",
   "metadata": {},
   "source": [
    "## Step 2: Data splitting and model training"
   ]
  },
  {
   "cell_type": "code",
   "execution_count": null,
   "id": "5d2785f1",
   "metadata": {},
   "outputs": [],
   "source": [
    "x_train, x_test, y_train, y_test = train_test_split(x, y, test_size=0.2, random_state=42)"
   ]
  },
  {
   "cell_type": "code",
   "execution_count": null,
   "id": "014b526b",
   "metadata": {},
   "outputs": [],
   "source": [
    "x_train.shape, x_test.shape, y_train.shape, y_test.shape"
   ]
  },
  {
   "cell_type": "code",
   "execution_count": null,
   "id": "deda3f3d",
   "metadata": {},
   "outputs": [],
   "source": [
    "model = LogisticRegression(random_state=42, solver=\"saga\", verbose=10)\n",
    "model.fit(x_train, y_train)"
   ]
  },
  {
   "cell_type": "markdown",
   "id": "d18f2a63",
   "metadata": {},
   "source": [
    "#### Quick save"
   ]
  },
  {
   "cell_type": "code",
   "execution_count": null,
   "id": "74402f66",
   "metadata": {},
   "outputs": [],
   "source": [
    "pickle.dump(model, open(\"trained/LR_Movement_model.pkl\", \"wb\"))"
   ]
  },
  {
   "cell_type": "markdown",
   "id": "f1f24eda",
   "metadata": {},
   "source": [
    "## Step 3: Evaluation and finetuning"
   ]
  },
  {
   "cell_type": "code",
   "execution_count": null,
   "id": "c355abf0",
   "metadata": {},
   "outputs": [],
   "source": [
    "y_pred = model.predict(x_test)"
   ]
  },
  {
   "cell_type": "code",
   "execution_count": null,
   "id": "6adadcba",
   "metadata": {},
   "outputs": [],
   "source": [
    "print(classification_report(y_test,y_pred, zero_division=0))"
   ]
  },
  {
   "cell_type": "code",
   "execution_count": null,
   "id": "a557aaf9",
   "metadata": {},
   "outputs": [],
   "source": [
    "# Compute confusion matrix\n",
    "cm = confusion_matrix(y_test, y_pred)\n",
    "\n",
    "heat = ConfusionMatrixDisplay(confusion_matrix=cm, display_labels=model.classes_)\n",
    "fig, ax = plt.subplots()  # optional: adjust figure size\n",
    "heat.plot(ax=ax)\n",
    "plt.xticks(rotation=45)\n",
    "plt.show()"
   ]
  },
  {
   "cell_type": "code",
   "execution_count": null,
   "id": "dd9f9585",
   "metadata": {},
   "outputs": [],
   "source": [
    "# Normalize it (row-wise percentages)\n",
    "cm_normalized = cm.astype('float') / cm.sum(axis=1)[:, np.newaxis] * 100\n",
    "\n",
    "# Plot\n",
    "disp = ConfusionMatrixDisplay(confusion_matrix=cm_normalized, display_labels=model.classes_)\n",
    "disp.plot(values_format='.2f')  # values_format to control decimal places\n",
    "plt.title('Confusion Matrix (in %)')\n",
    "plt.xticks(rotation=45)\n",
    "plt.show()\n"
   ]
  },
  {
   "cell_type": "code",
   "execution_count": null,
   "id": "c1e8987b",
   "metadata": {},
   "outputs": [],
   "source": [
    "# Compare the results with the actual y values\n",
    "accuracy = accuracy_score(y_test, y_pred)\n",
    "print(f\"Accuracy: {accuracy:.2f}\")"
   ]
  }
 ],
 "metadata": {
  "kernelspec": {
   "display_name": "NLP1",
   "language": "python",
   "name": "python3"
  },
  "language_info": {
   "codemirror_mode": {
    "name": "ipython",
    "version": 3
   },
   "file_extension": ".py",
   "mimetype": "text/x-python",
   "name": "python",
   "nbconvert_exporter": "python",
   "pygments_lexer": "ipython3",
   "version": "3.11.8"
  }
 },
 "nbformat": 4,
 "nbformat_minor": 5
}
