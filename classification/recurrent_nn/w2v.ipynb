{
 "cells": [
  {
   "cell_type": "markdown",
   "metadata": {},
   "source": [
    "# W2V MLP"
   ]
  },
  {
   "cell_type": "markdown",
   "metadata": {},
   "source": [
    "### Imports"
   ]
  },
  {
   "cell_type": "code",
   "execution_count": 1,
   "metadata": {},
   "outputs": [
    {
     "name": "stdout",
     "output_type": "stream",
     "text": [
      "Using device: cpu\n"
     ]
    },
    {
     "name": "stderr",
     "output_type": "stream",
     "text": [
      "2025/05/06 23:32:30 INFO mlflow.tracking.fluent: Experiment with name 'W2V' does not exist. Creating a new experiment.\n"
     ]
    }
   ],
   "source": [
    "import pandas as pd\n",
    "import numpy as np\n",
    "import re\n",
    "import nltk\n",
    "import torch\n",
    "import torch.nn as nn\n",
    "import torch.optim as optim\n",
    "import matplotlib.pyplot as plt\n",
    "import seaborn as sns\n",
    "import spacy\n",
    "import optuna\n",
    "import random\n",
    "\n",
    "# import modules\n",
    "\n",
    "from model.rnn import (\n",
    "    PoemDataset,\n",
    "    get_weighted_sampler,\n",
    "    PoemRNNClassifier,\n",
    "    train_epoch,\n",
    "    evaluate,\n",
    "    train_rnn,\n",
    "    validate_rnn,\n",
    "    save_model,\n",
    "    load_model,\n",
    "    BiLSTMWithAttention,\n",
    "    plot_confusion_matrix_percent,\n",
    "    sequence_vectorize,\n",
    ")\n",
    "\n",
    "from gensim.models import Word2Vec\n",
    "from nltk.tokenize import word_tokenize\n",
    "from nltk.stem import WordNetLemmatizer\n",
    "from nltk.stem.snowball import SnowballStemmer\n",
    "from sklearn.model_selection import train_test_split\n",
    "from sklearn.metrics import accuracy_score, confusion_matrix\n",
    "from sklearn.preprocessing import LabelEncoder\n",
    "from torch.utils.data import DataLoader\n",
    "from spacy.lang.de.stop_words import STOP_WORDS\n",
    "\n",
    "import mlflow\n",
    "import mlflow.pytorch\n",
    "\n",
    "seed = 42\n",
    "torch.manual_seed(seed)\n",
    "np.random.seed(seed)\n",
    "random.seed(seed)\n",
    "optuna.logging.set_verbosity(optuna.logging.WARNING)\n",
    "\n",
    "# If using CUDA\n",
    "torch.cuda.manual_seed_all(seed)\n",
    "\n",
    "# Define experiment\n",
    "mlflow.set_experiment(\"W2V\")\n",
    "mlflow.pytorch.autolog()\n",
    "\n",
    "\n",
    "%load_ext autoreload\n",
    "%autoreload 2"
   ]
  },
  {
   "cell_type": "markdown",
   "metadata": {},
   "source": [
    "### Loading data into a Dataframe (df)"
   ]
  },
  {
   "cell_type": "code",
   "execution_count": 6,
   "metadata": {},
   "outputs": [
    {
     "data": {
      "text/plain": [
       "title       string[python]\n",
       "text        string[python]\n",
       "author      string[python]\n",
       "creation             int64\n",
       "dtype: object"
      ]
     },
     "execution_count": 6,
     "metadata": {},
     "output_type": "execute_result"
    }
   ],
   "source": [
    "df = pd.read_parquet(\"data/de_poems.parquet\")\n",
    "df = df.astype(\n",
    "    {\"title\": \"string\", \"text\": \"string\", \"author\": \"string\", \"creation\": \"int64\"}\n",
    ")\n",
    "df.dtypes\n"
   ]
  },
  {
   "cell_type": "code",
   "execution_count": 7,
   "metadata": {},
   "outputs": [],
   "source": [
    "# Convertir les dates en siècles, en gérant les valeurs None\n",
    "# D'abord, créer une copie pour ne pas modifier l'original\n",
    "df_siecles = df.copy()\n",
    "\n",
    "# Convertir uniquement les valeurs non-nulles en entiers puis en siècles\n",
    "# Assurons-nous que toutes les valeurs sont soit des nombres, soit des NaN\n",
    "df_siecles[\"creation\"] = pd.to_numeric(df_siecles[\"creation\"], errors=\"coerce\")\n",
    "\n",
    "# Maintenant, appliquer la conversion en siècles seulement sur les valeurs non-nulles\n",
    "mask = df_siecles[\"creation\"].notna()\n",
    "df_siecles.loc[mask, \"creation\"] = df_siecles.loc[mask, \"creation\"].apply(\n",
    "    lambda x: (x - 1) // 100 + 1\n",
    ")\n",
    "\n",
    "# Remplacer df par df_siecles pour conserver les modifications\n",
    "df = df_siecles"
   ]
  },
  {
   "cell_type": "code",
   "execution_count": 8,
   "metadata": {},
   "outputs": [
    {
     "name": "stdout",
     "output_type": "stream",
     "text": [
      "\n",
      "Nombre de dates corrigées: 0\n",
      "Nombre de poèmes restants sans date: 0\n"
     ]
    }
   ],
   "source": [
    "# Filtrer les lignes où creation est None\n",
    "df_none_creation = df[df[\"creation\"].isnull()]\n",
    "\n",
    "\n",
    "# Grouper par author pour voir combien de poèmes chaque author a avec creation = None\n",
    "authors_avec_none = (\n",
    "    df_none_creation.groupby(\"author\").size().sort_values(ascending=False)\n",
    ")\n",
    "\n",
    "# Pour chaque author ayant des poèmes sans date, vérifier s'il a aussi des poèmes avec date\n",
    "authors_a_corriger = []\n",
    "for author in df_none_creation[\"author\"].unique():\n",
    "    dates_disponibles = df[df[\"author\"] == author][\"creation\"].dropna().unique()\n",
    "    if len(dates_disponibles) > 0:\n",
    "        authors_a_corriger.append((author, dates_disponibles))\n",
    "\n",
    "\n",
    "# Fonction pour remplir les dates manquantes avec la médiane des dates de l'author\n",
    "def remplir_dates_manquantes(df):\n",
    "    df_copy = df.copy()\n",
    "\n",
    "    for author in df[df[\"creation\"].isna()][\"author\"].unique():\n",
    "        dates = df[df[\"author\"] == author][\"creation\"].dropna()\n",
    "        if len(dates) > 0:\n",
    "            # Utiliser la médiane des dates disponibles pour cet author\n",
    "            date_mediane = int(np.median(dates))\n",
    "            # Remplir les valeurs manquantes pour cet author\n",
    "            mask = (df_copy[\"author\"] == author) & (df_copy[\"creation\"].isna())\n",
    "            df_copy.loc[mask, \"creation\"] = date_mediane\n",
    "\n",
    "    return df_copy\n",
    "\n",
    "\n",
    "# Appliquer la fonction pour remplir les dates manquantes\n",
    "df_corrige = remplir_dates_manquantes(df)\n",
    "\n",
    "# Vérifier combien de dates ont été corrigées\n",
    "nb_corriges = len(df) - df_corrige[\"creation\"].isna().sum()\n",
    "nb_restants = df_corrige[\"creation\"].isna().sum()\n",
    "\n",
    "print(f\"\\nNombre de dates corrigées: {nb_corriges - (len(df) - len(df_none_creation))}\")\n",
    "print(f\"Nombre de poèmes restants sans date: {nb_restants}\")\n",
    "\n",
    "df = df_corrige.dropna()"
   ]
  },
  {
   "cell_type": "markdown",
   "metadata": {},
   "source": [
    "### Tokenizing text"
   ]
  },
  {
   "cell_type": "markdown",
   "metadata": {},
   "source": [
    "#### NLTK"
   ]
  },
  {
   "cell_type": "code",
   "execution_count": 9,
   "metadata": {},
   "outputs": [
    {
     "name": "stderr",
     "output_type": "stream",
     "text": [
      "[nltk_data] Downloading package punkt_tab to\n",
      "[nltk_data]     /Users/erwinrodrigues/nltk_data...\n",
      "[nltk_data]   Package punkt_tab is already up-to-date!\n"
     ]
    }
   ],
   "source": [
    "nltk.download(\"punkt_tab\")\n",
    "\n",
    "def preprocess_text_wordTokenize(text: str) -> str:\n",
    "    text = text.lower()\n",
    "    text = re.sub(r\"[^\\w\\s]+\", \"\", text)\n",
    "    tokens = word_tokenize(text)\n",
    "    return tokens"
   ]
  },
  {
   "cell_type": "code",
   "execution_count": 10,
   "metadata": {},
   "outputs": [
    {
     "name": "stderr",
     "output_type": "stream",
     "text": [
      "[nltk_data] Downloading package wordnet to\n",
      "[nltk_data]     /Users/erwinrodrigues/nltk_data...\n",
      "[nltk_data]   Package wordnet is already up-to-date!\n"
     ]
    }
   ],
   "source": [
    "nltk.download(\"wordnet\")\n",
    "\n",
    "lemmatizer = WordNetLemmatizer()\n",
    "\n",
    "def preprocess_text_lemmatize(text):\n",
    "    text = re.sub(r\"[^\\w\\s'-]+\", \"\", text)\n",
    "    tokens = word_tokenize(re.sub(r\"[^\\w\\s]+\", \"\", text.lower()))\n",
    "    return [lemmatizer.lemmatize(token) for token in tokens]\n"
   ]
  },
  {
   "cell_type": "code",
   "execution_count": 11,
   "metadata": {},
   "outputs": [],
   "source": [
    "def preprocess_text_stemmer(text):\n",
    "    text = re.sub(r\"[^\\w\\s'-]+\", \"\", text)\n",
    "    tokens = word_tokenize(re.sub(r\"[^\\w\\s]+\", \"\", text.lower()))\n",
    "    stemmer = SnowballStemmer(\"german\")\n",
    "    return [stemmer.stem(token) for token in tokens]"
   ]
  },
  {
   "cell_type": "code",
   "execution_count": 12,
   "metadata": {},
   "outputs": [],
   "source": [
    "df[\"tokens\"] = df[\"text\"].apply(preprocess_text_stemmer)\n"
   ]
  },
  {
   "cell_type": "markdown",
   "metadata": {},
   "source": [
    "#### Spacy"
   ]
  },
  {
   "cell_type": "code",
   "execution_count": 32,
   "metadata": {},
   "outputs": [],
   "source": [
    "nlp = spacy.load(\"de_core_news_sm\")\n",
    "# python -m spacy download de_core_news_sm\n",
    "\n",
    "\n",
    "def preprocess_text_spacy(doc):\n",
    "    tokens = [token.lemma_ for token in doc if not token.is_punct]\n",
    "    return tokens\n",
    "\n",
    "\n",
    "def preprocess_text_spacy_stopwords(doc):\n",
    "    filtered_tokens = [\n",
    "        token.lemma_\n",
    "        for token in doc\n",
    "        if not token.is_punct and token.lemma_.lower() not in STOP_WORDS\n",
    "    ]\n",
    "    return filtered_tokens\n"
   ]
  },
  {
   "cell_type": "code",
   "execution_count": 33,
   "metadata": {},
   "outputs": [],
   "source": [
    "texts = df[\"text\"].tolist()\n",
    "docs = list(nlp.pipe(texts, batch_size=1000, n_process=4))\n",
    "\n",
    "df[\"tokens\"] = [preprocess_text_spacy_stopwords(doc) for doc in docs]"
   ]
  },
  {
   "cell_type": "code",
   "execution_count": 34,
   "metadata": {},
   "outputs": [],
   "source": [
    "df.to_csv(\"spacy_tokenized.csv\")"
   ]
  },
  {
   "cell_type": "code",
   "execution_count": null,
   "metadata": {},
   "outputs": [],
   "source": [
    "df = pd.read_csv(\"spacy_tokenized.csv\")"
   ]
  },
  {
   "cell_type": "markdown",
   "metadata": {},
   "source": [
    "### Training Word 2 Vec on the tokenized texts"
   ]
  },
  {
   "cell_type": "code",
   "execution_count": null,
   "metadata": {},
   "outputs": [],
   "source": [
    "tokenized_poems = df[\"tokens\"].tolist()\n",
    "model_df = Word2Vec(tokenized_poems, vector_size=100, window=5, min_count=2, workers=4)\n",
    "\n",
    "model_df.save(\"word2vec_df.model\")"
   ]
  },
  {
   "cell_type": "markdown",
   "metadata": {},
   "source": [
    "#### W2V Boosted"
   ]
  },
  {
   "cell_type": "code",
   "execution_count": 35,
   "metadata": {},
   "outputs": [],
   "source": [
    "model_df = Word2Vec(\n",
    "    sentences=df[\"tokens\"],\n",
    "    vector_size=500,\n",
    "    window=20,\n",
    "    min_count=2,\n",
    "    workers=32,\n",
    "    epochs=50,\n",
    "    seed=42,\n",
    ")\n",
    "\n",
    "model_df.save(\"word2vec_boosted2.model\")"
   ]
  },
  {
   "cell_type": "code",
   "execution_count": 20,
   "metadata": {},
   "outputs": [],
   "source": [
    "model_df = Word2Vec.load(\"word2vec_boosted2.model\")"
   ]
  },
  {
   "cell_type": "markdown",
   "metadata": {},
   "source": [
    "## MLP"
   ]
  },
  {
   "cell_type": "markdown",
   "metadata": {},
   "source": [
    "### Embedding Text && Encoding Century"
   ]
  },
  {
   "cell_type": "code",
   "execution_count": 38,
   "metadata": {},
   "outputs": [],
   "source": [
    "def text_to_embedding(tokens, model, embedding_dim=100):\n",
    "    vectors = [model.wv[word] for word in tokens if word in model.wv]\n",
    "    if len(vectors) == 0:\n",
    "        return np.zeros(embedding_dim)\n",
    "    return np.mean(vectors, axis=0)\n",
    "\n",
    "def vectorize(tokens, model):\n",
    "    vectors = [model.wv[word] for word in tokens if word in model.wv]\n",
    "    if not vectors:\n",
    "        return np.zeros(model.vector_size * 2)\n",
    "    vectors = np.array(vectors)\n",
    "    mean_vec = vectors.mean(axis=0)\n",
    "    max_vec = vectors.max(axis=0)\n",
    "    return np.concatenate([mean_vec, max_vec])\n",
    "\n",
    "\n",
    "df[\"embedding\"] = df[\"tokens\"].apply(lambda x: text_to_embedding(x, model_df))\n",
    "#df[\"embedding\"] = df[\"tokens\"].apply(lambda x: vectorize(x, model_df))"
   ]
  },
  {
   "cell_type": "code",
   "execution_count": 39,
   "metadata": {},
   "outputs": [],
   "source": [
    "from sklearn.preprocessing import StandardScaler\n",
    "\n",
    "label_encoder = LabelEncoder()\n",
    "df.loc[:, \"creation\"] = label_encoder.fit_transform(df[\"creation\"])\n",
    "\n",
    "x = torch.tensor(np.stack(df[\"embedding\"].values), dtype=torch.float32)\n",
    "y = torch.tensor(df[\"creation\"].values, dtype=torch.long)\n",
    "\n",
    "x_train, x_test, y_train, y_test = train_test_split(\n",
    "    x, y, test_size=0.2, random_state=42\n",
    ")\n",
    "\n",
    "scaler = StandardScaler()\n",
    "X_train = scaler.fit_transform(x_train)\n",
    "X_test = scaler.transform(x_test)"
   ]
  },
  {
   "cell_type": "markdown",
   "metadata": {},
   "source": [
    "### Creating the data loaders"
   ]
  },
  {
   "cell_type": "code",
   "execution_count": 40,
   "metadata": {},
   "outputs": [],
   "source": [
    "train_dataset = TextDataset(x_train, y_train)\n",
    "val_dataset = TextDataset(x_test, y_test)\n",
    "\n",
    "batch_size = 64\n",
    "train_loader = DataLoader(train_dataset, batch_size=batch_size, shuffle=True)\n",
    "val_loader = DataLoader(val_dataset, batch_size=batch_size, shuffle=False)"
   ]
  },
  {
   "cell_type": "markdown",
   "metadata": {},
   "source": [
    "### Creating model and hyperparameters"
   ]
  },
  {
   "cell_type": "code",
   "execution_count": 43,
   "metadata": {},
   "outputs": [],
   "source": [
    "embedding_dim = 500\n",
    "hidden_size = 128\n",
    "num_classes = len(df[\"century_label\"].unique())\n",
    "\n",
    "class_counts = np.bincount(df[\"century_label\"])\n",
    "class_weights = 1.0 / class_counts\n",
    "\n",
    "def initialize_weights(m):\n",
    "    if isinstance(m, nn.Linear):\n",
    "        nn.init.xavier_uniform_(m.weight)\n",
    "        if m.bias is not None:\n",
    "            nn.init.zeros_(m.bias)\n",
    "\n",
    "model = LanguageModelNN(embedding_dim, hidden_size, num_classes)\n",
    "# model = LanguageModelNN_Dropout(num_classes)\n",
    "model.apply(initialize_weights)\n",
    "\n",
    "loss_fn = nn.CrossEntropyLoss()\n",
    "# loss_fn = nn.CrossEntropyLoss(weight=torch.tensor(class_weights, dtype=torch.float32))\n",
    "\n",
    "optimizer = torch.optim.Adam(model.parameters(), lr=0.001)\n",
    "# optimizer = optim.Adam(model.parameters(), lr=0.001, weight_decay=1e-4)\n",
    "# optimizer = optim.AdamW(model.parameters(), lr=0.001, weight_decay=1e-4)\n"
   ]
  },
  {
   "cell_type": "markdown",
   "metadata": {},
   "source": [
    "### Training and Validating model"
   ]
  },
  {
   "cell_type": "code",
   "execution_count": 44,
   "metadata": {},
   "outputs": [
    {
     "name": "stdout",
     "output_type": "stream",
     "text": [
      "Epoch 1/200, Loss: 0.5531\n",
      "Epoch 2/200, Loss: 0.4196\n",
      "Epoch 3/200, Loss: 0.3645\n",
      "Epoch 4/200, Loss: 0.3238\n",
      "Epoch 5/200, Loss: 0.2891\n",
      "Epoch 6/200, Loss: 0.2596\n",
      "Epoch 7/200, Loss: 0.2359\n",
      "Epoch 8/200, Loss: 0.2121\n",
      "Epoch 9/200, Loss: 0.1939\n",
      "Epoch 10/200, Loss: 0.1782\n",
      "Epoch 11/200, Loss: 0.1634\n",
      "Epoch 12/200, Loss: 0.1504\n",
      "Epoch 13/200, Loss: 0.1411\n",
      "Epoch 14/200, Loss: 0.1289\n",
      "Epoch 15/200, Loss: 0.1198\n",
      "Epoch 16/200, Loss: 0.1096\n",
      "Epoch 17/200, Loss: 0.1059\n",
      "Epoch 18/200, Loss: 0.0965\n",
      "Epoch 19/200, Loss: 0.0913\n",
      "Epoch 20/200, Loss: 0.0859\n",
      "Epoch 21/200, Loss: 0.0819\n",
      "Epoch 22/200, Loss: 0.0767\n",
      "Epoch 23/200, Loss: 0.0715\n",
      "Epoch 24/200, Loss: 0.0707\n",
      "Epoch 25/200, Loss: 0.0672\n",
      "Epoch 26/200, Loss: 0.0643\n",
      "Epoch 27/200, Loss: 0.0608\n",
      "Epoch 28/200, Loss: 0.0596\n",
      "Epoch 29/200, Loss: 0.0546\n",
      "Epoch 30/200, Loss: 0.0584\n",
      "Epoch 31/200, Loss: 0.0528\n",
      "Epoch 32/200, Loss: 0.0507\n",
      "Epoch 33/200, Loss: 0.0497\n",
      "Epoch 34/200, Loss: 0.0469\n",
      "Epoch 35/200, Loss: 0.0475\n",
      "Epoch 36/200, Loss: 0.0471\n",
      "Epoch 37/200, Loss: 0.0484\n",
      "Epoch 38/200, Loss: 0.0446\n",
      "Epoch 39/200, Loss: 0.0413\n",
      "Epoch 40/200, Loss: 0.0432\n",
      "Epoch 41/200, Loss: 0.0423\n",
      "Epoch 42/200, Loss: 0.0413\n",
      "Epoch 43/200, Loss: 0.0412\n",
      "Epoch 44/200, Loss: 0.0380\n",
      "Epoch 45/200, Loss: 0.0420\n",
      "Epoch 46/200, Loss: 0.0380\n",
      "Epoch 47/200, Loss: 0.0356\n",
      "Epoch 48/200, Loss: 0.0386\n",
      "Epoch 49/200, Loss: 0.0410\n",
      "Epoch 50/200, Loss: 0.0387\n",
      "Epoch 51/200, Loss: 0.0342\n",
      "Epoch 52/200, Loss: 0.0341\n",
      "Epoch 53/200, Loss: 0.0331\n",
      "Epoch 54/200, Loss: 0.0382\n",
      "Epoch 55/200, Loss: 0.0371\n",
      "Epoch 56/200, Loss: 0.0344\n",
      "Epoch 57/200, Loss: 0.0315\n",
      "Epoch 58/200, Loss: 0.0324\n",
      "Epoch 59/200, Loss: 0.0322\n",
      "Epoch 60/200, Loss: 0.0345\n",
      "Epoch 61/200, Loss: 0.0320\n",
      "Epoch 62/200, Loss: 0.0311\n",
      "Epoch 63/200, Loss: 0.0290\n",
      "Epoch 64/200, Loss: 0.0341\n",
      "Epoch 65/200, Loss: 0.0324\n",
      "Epoch 66/200, Loss: 0.0321\n",
      "Epoch 67/200, Loss: 0.0289\n",
      "Epoch 68/200, Loss: 0.0323\n",
      "Epoch 69/200, Loss: 0.0311\n",
      "Epoch 70/200, Loss: 0.0310\n",
      "Epoch 71/200, Loss: 0.0284\n",
      "Epoch 72/200, Loss: 0.0290\n",
      "Epoch 73/200, Loss: 0.0302\n",
      "Epoch 74/200, Loss: 0.0301\n",
      "Epoch 75/200, Loss: 0.0311\n",
      "Epoch 76/200, Loss: 0.0287\n",
      "Epoch 77/200, Loss: 0.0291\n",
      "Epoch 78/200, Loss: 0.0265\n",
      "Epoch 79/200, Loss: 0.0309\n",
      "Epoch 80/200, Loss: 0.0298\n",
      "Epoch 81/200, Loss: 0.0268\n",
      "Epoch 82/200, Loss: 0.0275\n",
      "Epoch 83/200, Loss: 0.0294\n",
      "Epoch 84/200, Loss: 0.0280\n",
      "Epoch 85/200, Loss: 0.0276\n",
      "Epoch 86/200, Loss: 0.0265\n",
      "Epoch 87/200, Loss: 0.0290\n",
      "Epoch 88/200, Loss: 0.0268\n",
      "Epoch 89/200, Loss: 0.0272\n",
      "Epoch 90/200, Loss: 0.0285\n",
      "Epoch 91/200, Loss: 0.0279\n",
      "Epoch 92/200, Loss: 0.0259\n",
      "Epoch 93/200, Loss: 0.0244\n",
      "Epoch 94/200, Loss: 0.0293\n",
      "Epoch 95/200, Loss: 0.0262\n",
      "Epoch 96/200, Loss: 0.0265\n",
      "Epoch 97/200, Loss: 0.0262\n",
      "Epoch 98/200, Loss: 0.0265\n",
      "Epoch 99/200, Loss: 0.0266\n",
      "Epoch 100/200, Loss: 0.0235\n",
      "Epoch 101/200, Loss: 0.0285\n",
      "Epoch 102/200, Loss: 0.0269\n",
      "Epoch 103/200, Loss: 0.0251\n",
      "Epoch 104/200, Loss: 0.0248\n",
      "Epoch 105/200, Loss: 0.0266\n",
      "Epoch 106/200, Loss: 0.0248\n",
      "Epoch 107/200, Loss: 0.0232\n",
      "Epoch 108/200, Loss: 0.0274\n",
      "Epoch 109/200, Loss: 0.0248\n",
      "Epoch 110/200, Loss: 0.0235\n",
      "Epoch 111/200, Loss: 0.0258\n",
      "Epoch 112/200, Loss: 0.0241\n",
      "Epoch 113/200, Loss: 0.0247\n",
      "Epoch 114/200, Loss: 0.0229\n",
      "Epoch 115/200, Loss: 0.0251\n",
      "Epoch 116/200, Loss: 0.0279\n",
      "Epoch 117/200, Loss: 0.0243\n",
      "Epoch 118/200, Loss: 0.0246\n",
      "Epoch 119/200, Loss: 0.0224\n",
      "Epoch 120/200, Loss: 0.0248\n",
      "Epoch 121/200, Loss: 0.0236\n",
      "Epoch 122/200, Loss: 0.0270\n",
      "Epoch 123/200, Loss: 0.0231\n",
      "Epoch 124/200, Loss: 0.0222\n",
      "Epoch 125/200, Loss: 0.0225\n",
      "Epoch 126/200, Loss: 0.0245\n",
      "Epoch 127/200, Loss: 0.0246\n",
      "Epoch 128/200, Loss: 0.0224\n",
      "Epoch 129/200, Loss: 0.0225\n",
      "Epoch 130/200, Loss: 0.0239\n",
      "Epoch 131/200, Loss: 0.0228\n",
      "Epoch 132/200, Loss: 0.0235\n",
      "Epoch 133/200, Loss: 0.0227\n",
      "Epoch 134/200, Loss: 0.0225\n",
      "Epoch 135/200, Loss: 0.0217\n",
      "Epoch 136/200, Loss: 0.0239\n",
      "Epoch 137/200, Loss: 0.0218\n",
      "Epoch 138/200, Loss: 0.0247\n",
      "Epoch 139/200, Loss: 0.0220\n",
      "Epoch 140/200, Loss: 0.0237\n",
      "Epoch 141/200, Loss: 0.0228\n",
      "Epoch 142/200, Loss: 0.0203\n",
      "Epoch 143/200, Loss: 0.0243\n",
      "Epoch 144/200, Loss: 0.0241\n",
      "Epoch 145/200, Loss: 0.0218\n",
      "Epoch 146/200, Loss: 0.0222\n",
      "Epoch 147/200, Loss: 0.0208\n",
      "Epoch 148/200, Loss: 0.0213\n",
      "Epoch 149/200, Loss: 0.0223\n",
      "Epoch 150/200, Loss: 0.0228\n",
      "Epoch 151/200, Loss: 0.0232\n",
      "Epoch 152/200, Loss: 0.0227\n",
      "Epoch 153/200, Loss: 0.0208\n",
      "Epoch 154/200, Loss: 0.0201\n",
      "Epoch 155/200, Loss: 0.0220\n",
      "Epoch 156/200, Loss: 0.0219\n",
      "Epoch 157/200, Loss: 0.0229\n",
      "Epoch 158/200, Loss: 0.0199\n",
      "Epoch 159/200, Loss: 0.0203\n",
      "Epoch 160/200, Loss: 0.0222\n",
      "Epoch 161/200, Loss: 0.0219\n",
      "Epoch 162/200, Loss: 0.0201\n",
      "Epoch 163/200, Loss: 0.0220\n",
      "Epoch 164/200, Loss: 0.0200\n",
      "Epoch 165/200, Loss: 0.0225\n",
      "Epoch 166/200, Loss: 0.0220\n",
      "Epoch 167/200, Loss: 0.0186\n",
      "Epoch 168/200, Loss: 0.0198\n",
      "Epoch 169/200, Loss: 0.0217\n",
      "Epoch 170/200, Loss: 0.0213\n",
      "Epoch 171/200, Loss: 0.0201\n",
      "Epoch 172/200, Loss: 0.0205\n",
      "Epoch 173/200, Loss: 0.0218\n",
      "Epoch 174/200, Loss: 0.0214\n",
      "Epoch 175/200, Loss: 0.0205\n",
      "Epoch 176/200, Loss: 0.0212\n",
      "Epoch 177/200, Loss: 0.0221\n",
      "Epoch 178/200, Loss: 0.0228\n",
      "Epoch 179/200, Loss: 0.0210\n",
      "Epoch 180/200, Loss: 0.0199\n",
      "Epoch 181/200, Loss: 0.0178\n",
      "Epoch 182/200, Loss: 0.0195\n",
      "Epoch 183/200, Loss: 0.0223\n",
      "Epoch 184/200, Loss: 0.0206\n",
      "Epoch 185/200, Loss: 0.0204\n",
      "Epoch 186/200, Loss: 0.0205\n",
      "Epoch 187/200, Loss: 0.0189\n",
      "Epoch 188/200, Loss: 0.0205\n",
      "Epoch 189/200, Loss: 0.0188\n",
      "Epoch 190/200, Loss: 0.0193\n",
      "Epoch 191/200, Loss: 0.0214\n",
      "Epoch 192/200, Loss: 0.0216\n",
      "Epoch 193/200, Loss: 0.0189\n",
      "Epoch 194/200, Loss: 0.0190\n",
      "Epoch 195/200, Loss: 0.0200\n",
      "Epoch 196/200, Loss: 0.0178\n",
      "Epoch 197/200, Loss: 0.0201\n",
      "Epoch 198/200, Loss: 0.0211\n",
      "Epoch 199/200, Loss: 0.0185\n",
      "Epoch 200/200, Loss: 0.0176\n",
      "Total training time: 177.24s\n"
     ]
    }
   ],
   "source": [
    "mlflow.end_run()    \n",
    "mlp_training_time = train_mlp(model, train_loader, loss_fn, optimizer, num_epochs=200)"
   ]
  },
  {
   "cell_type": "code",
   "execution_count": 47,
   "metadata": {},
   "outputs": [
    {
     "name": "stdout",
     "output_type": "stream",
     "text": [
      "MLP model saved successfully to models/saved/mlp_model.pt\n"
     ]
    }
   ],
   "source": [
    "save_mlp(model, label_encoder)"
   ]
  },
  {
   "cell_type": "markdown",
   "metadata": {},
   "source": [
    "## RNN"
   ]
  },
  {
   "cell_type": "code",
   "execution_count": 6,
   "metadata": {},
   "outputs": [],
   "source": [
    "df[\"sequence_embedding\"] = df[\"tokens\"].apply(lambda x: sequence_vectorize(x, model_df))"
   ]
  },
  {
   "cell_type": "code",
   "execution_count": 44,
   "metadata": {},
   "outputs": [],
   "source": [
    "df = df[df[\"sequence_embedding\"].apply(lambda x: len(x) > 0)].reset_index(drop=True)"
   ]
  },
  {
   "cell_type": "code",
   "execution_count": 7,
   "metadata": {},
   "outputs": [
    {
     "name": "stdout",
     "output_type": "stream",
     "text": [
      "Number of unique classes: 9\n",
      "Unique class labels: [5 7 6 4 3 8 1 2 0]\n",
      "Label range: 0 to 8\n"
     ]
    }
   ],
   "source": [
    "print(\"Number of unique classes:\", len(df[\"creation\"].unique()))\n",
    "print(\"Unique class labels:\", df[\"creation\"].unique())\n",
    "\n",
    "print(\"Label range:\", df[\"creation\"].min(), \"to\", df[\"creation\"].max())"
   ]
  },
  {
   "cell_type": "code",
   "execution_count": 11,
   "metadata": {},
   "outputs": [
    {
     "name": "stdout",
     "output_type": "stream",
     "text": [
      "Century to index mapping: {0: 0, 1: 1, 2: 2, 3: 3, 4: 4, 5: 5, 6: 6, 7: 7, 8: 8}\n"
     ]
    }
   ],
   "source": [
    "# Create a mapping from century to zero-indexed labels\n",
    "century_to_idx = {\n",
    "    century: idx for idx, century in enumerate(sorted(df[\"creation\"].unique()))\n",
    "}\n",
    "print(\"Century to index mapping:\", century_to_idx)"
   ]
  },
  {
   "cell_type": "code",
   "execution_count": 9,
   "metadata": {},
   "outputs": [],
   "source": [
    "# Create new column with zero-indexed labels\n",
    "df[\"century_label\"] = df[\"creation\"].map(century_to_idx)"
   ]
  },
  {
   "cell_type": "code",
   "execution_count": 10,
   "metadata": {},
   "outputs": [
    {
     "name": "stdout",
     "output_type": "stream",
     "text": [
      "New label range: 0 to 8\n",
      "Number of unique classes: 9\n"
     ]
    }
   ],
   "source": [
    "print(\"New label range:\", df[\"century_label\"].min(), \"to\", df[\"century_label\"].max())\n",
    "print(\"Number of unique classes:\", len(df[\"century_label\"].unique()))"
   ]
  },
  {
   "cell_type": "code",
   "execution_count": 13,
   "metadata": {},
   "outputs": [],
   "source": [
    "from sklearn.model_selection import train_test_split\n",
    "\n",
    "X_embedded = df[\"sequence_embedding\"].tolist()  # List of lists of word2vec vectors (np.ndarray)\n",
    "y = df[\"century_label\"].tolist()  # List of ints\n",
    "\n",
    "# Set params\n",
    "max_len = 50\n",
    "embedding_dim = X_embedded[0][0].shape[0]\n",
    "hidden_dim = 128\n",
    "num_classes = len(set(y))\n",
    "batch_size = 32\n",
    "epochs = 100\n",
    "\n",
    "# Train/test split\n",
    "X_train, X_test, y_train, y_test = train_test_split(\n",
    "    X_embedded, y, stratify=y, test_size=0.2, random_state=42\n",
    ")\n",
    "\n",
    "# Datasets\n",
    "train_dataset = PoemDataset(X_train, y_train, max_len)\n",
    "test_dataset = PoemDataset(X_test, y_test, max_len)\n",
    "\n",
    "# Sampler for imbalance\n",
    "sampler = get_weighted_sampler(y_train)\n",
    "train_loader = DataLoader(train_dataset, batch_size=batch_size, sampler=sampler)\n",
    "test_loader = DataLoader(test_dataset, batch_size=batch_size, shuffle=False)\n",
    "\n"
   ]
  },
  {
   "cell_type": "code",
   "execution_count": 14,
   "metadata": {},
   "outputs": [],
   "source": [
    "from sklearn.utils.class_weight import compute_class_weight\n",
    "import torch\n",
    "\n",
    "# convert y from list to tensor\n",
    "y = torch.tensor(y, dtype=torch.long)\n",
    "\n",
    "# Calculate class weights based on the labels in your dataset\n",
    "class_weights = compute_class_weight(\n",
    "    \"balanced\", classes=torch.unique(y).numpy(), y=y.numpy()\n",
    ")\n",
    "class_weights = torch.tensor(class_weights, dtype=torch.float32)\n",
    "\n",
    "# Create the loss function with class weights\n",
    "loss_fn = nn.CrossEntropyLoss(weight=class_weights)\n"
   ]
  },
  {
   "cell_type": "code",
   "execution_count": 15,
   "metadata": {},
   "outputs": [
    {
     "name": "stderr",
     "output_type": "stream",
     "text": [
      "/Users/erwinrodrigues/school/nlp/project/NLP1-Poetry/.venv/lib/python3.12/site-packages/torch/optim/lr_scheduler.py:62: UserWarning: The verbose parameter is deprecated. Please use get_last_lr() to access the learning rate.\n",
      "  warnings.warn(\n"
     ]
    }
   ],
   "source": [
    "# Example of running the training loop\n",
    "device = torch.device(\"cuda\" if torch.cuda.is_available() else \"cpu\")\n",
    "model = BiLSTMWithAttention(\n",
    "    input_dim=embedding_dim, hidden_dim=128, num_classes=num_classes, dropout=0.3\n",
    ").to(device)\n",
    "\n",
    "# Optimizer & Loss\n",
    "optimizer = optim.AdamW(model.parameters(), lr=1e-3, weight_decay=1e-4)\n",
    "\n",
    "# Scheduler\n",
    "scheduler = optim.lr_scheduler.ReduceLROnPlateau(\n",
    "    optimizer, mode=\"min\", factor=0.5, patience=5, verbose=True\n",
    ")"
   ]
  },
  {
   "cell_type": "code",
   "execution_count": 17,
   "metadata": {},
   "outputs": [
    {
     "name": "stdout",
     "output_type": "stream",
     "text": [
      "Epoch 1/10\n"
     ]
    },
    {
     "ename": "KeyboardInterrupt",
     "evalue": "",
     "output_type": "error",
     "traceback": [
      "\u001b[31m---------------------------------------------------------------------------\u001b[39m",
      "\u001b[31mKeyboardInterrupt\u001b[39m                         Traceback (most recent call last)",
      "\u001b[36mCell\u001b[39m\u001b[36m \u001b[39m\u001b[32mIn[17]\u001b[39m\u001b[32m, line 2\u001b[39m\n\u001b[32m      1\u001b[39m \u001b[38;5;66;03m# Call train_model\u001b[39;00m\n\u001b[32m----> \u001b[39m\u001b[32m2\u001b[39m model, rnn_training_time = \u001b[43mtrain_rnn\u001b[49m\u001b[43m(\u001b[49m\n\u001b[32m      3\u001b[39m \u001b[43m    \u001b[49m\u001b[43mmodel\u001b[49m\u001b[43m,\u001b[49m\u001b[43m \u001b[49m\u001b[43mtrain_loader\u001b[49m\u001b[43m,\u001b[49m\u001b[43m \u001b[49m\u001b[43mloss_fn\u001b[49m\u001b[43m,\u001b[49m\u001b[43m \u001b[49m\u001b[43moptimizer\u001b[49m\u001b[43m,\u001b[49m\u001b[43m \u001b[49m\u001b[43mscheduler\u001b[49m\u001b[43m,\u001b[49m\u001b[43m \u001b[49m\u001b[43mnum_epochs\u001b[49m\u001b[43m=\u001b[49m\u001b[32;43m10\u001b[39;49m\n\u001b[32m      4\u001b[39m \u001b[43m)\u001b[49m\n",
      "\u001b[36mFile \u001b[39m\u001b[32m~/school/nlp/project/NLP1-Poetry/reccuring_neural_network/model/rnn.py:201\u001b[39m, in \u001b[36mtrain_rnn\u001b[39m\u001b[34m(model, train_loader, loss_fn, optimizer, scheduler, num_epochs)\u001b[39m\n\u001b[32m    198\u001b[39m optimizer.zero_grad()\n\u001b[32m    199\u001b[39m inputs, labels = inputs.to(device), labels.to(device)\n\u001b[32m--> \u001b[39m\u001b[32m201\u001b[39m outputs = \u001b[43mmodel\u001b[49m\u001b[43m(\u001b[49m\u001b[43minputs\u001b[49m\u001b[43m)\u001b[49m\n\u001b[32m    202\u001b[39m loss = loss_fn(outputs, labels)\n\u001b[32m    204\u001b[39m loss.backward()\n",
      "\u001b[36mFile \u001b[39m\u001b[32m~/school/nlp/project/NLP1-Poetry/.venv/lib/python3.12/site-packages/torch/nn/modules/module.py:1739\u001b[39m, in \u001b[36mModule._wrapped_call_impl\u001b[39m\u001b[34m(self, *args, **kwargs)\u001b[39m\n\u001b[32m   1737\u001b[39m     \u001b[38;5;28;01mreturn\u001b[39;00m \u001b[38;5;28mself\u001b[39m._compiled_call_impl(*args, **kwargs)  \u001b[38;5;66;03m# type: ignore[misc]\u001b[39;00m\n\u001b[32m   1738\u001b[39m \u001b[38;5;28;01melse\u001b[39;00m:\n\u001b[32m-> \u001b[39m\u001b[32m1739\u001b[39m     \u001b[38;5;28;01mreturn\u001b[39;00m \u001b[38;5;28;43mself\u001b[39;49m\u001b[43m.\u001b[49m\u001b[43m_call_impl\u001b[49m\u001b[43m(\u001b[49m\u001b[43m*\u001b[49m\u001b[43margs\u001b[49m\u001b[43m,\u001b[49m\u001b[43m \u001b[49m\u001b[43m*\u001b[49m\u001b[43m*\u001b[49m\u001b[43mkwargs\u001b[49m\u001b[43m)\u001b[49m\n",
      "\u001b[36mFile \u001b[39m\u001b[32m~/school/nlp/project/NLP1-Poetry/.venv/lib/python3.12/site-packages/torch/nn/modules/module.py:1750\u001b[39m, in \u001b[36mModule._call_impl\u001b[39m\u001b[34m(self, *args, **kwargs)\u001b[39m\n\u001b[32m   1745\u001b[39m \u001b[38;5;66;03m# If we don't have any hooks, we want to skip the rest of the logic in\u001b[39;00m\n\u001b[32m   1746\u001b[39m \u001b[38;5;66;03m# this function, and just call forward.\u001b[39;00m\n\u001b[32m   1747\u001b[39m \u001b[38;5;28;01mif\u001b[39;00m \u001b[38;5;129;01mnot\u001b[39;00m (\u001b[38;5;28mself\u001b[39m._backward_hooks \u001b[38;5;129;01mor\u001b[39;00m \u001b[38;5;28mself\u001b[39m._backward_pre_hooks \u001b[38;5;129;01mor\u001b[39;00m \u001b[38;5;28mself\u001b[39m._forward_hooks \u001b[38;5;129;01mor\u001b[39;00m \u001b[38;5;28mself\u001b[39m._forward_pre_hooks\n\u001b[32m   1748\u001b[39m         \u001b[38;5;129;01mor\u001b[39;00m _global_backward_pre_hooks \u001b[38;5;129;01mor\u001b[39;00m _global_backward_hooks\n\u001b[32m   1749\u001b[39m         \u001b[38;5;129;01mor\u001b[39;00m _global_forward_hooks \u001b[38;5;129;01mor\u001b[39;00m _global_forward_pre_hooks):\n\u001b[32m-> \u001b[39m\u001b[32m1750\u001b[39m     \u001b[38;5;28;01mreturn\u001b[39;00m \u001b[43mforward_call\u001b[49m\u001b[43m(\u001b[49m\u001b[43m*\u001b[49m\u001b[43margs\u001b[49m\u001b[43m,\u001b[49m\u001b[43m \u001b[49m\u001b[43m*\u001b[49m\u001b[43m*\u001b[49m\u001b[43mkwargs\u001b[49m\u001b[43m)\u001b[49m\n\u001b[32m   1752\u001b[39m result = \u001b[38;5;28;01mNone\u001b[39;00m\n\u001b[32m   1753\u001b[39m called_always_called_hooks = \u001b[38;5;28mset\u001b[39m()\n",
      "\u001b[36mFile \u001b[39m\u001b[32m~/school/nlp/project/NLP1-Poetry/reccuring_neural_network/model/rnn.py:144\u001b[39m, in \u001b[36mBiLSTMWithAttention.forward\u001b[39m\u001b[34m(self, x)\u001b[39m\n\u001b[32m    142\u001b[39m \u001b[38;5;28;01mdef\u001b[39;00m\u001b[38;5;250m \u001b[39m\u001b[34mforward\u001b[39m(\u001b[38;5;28mself\u001b[39m, x):\n\u001b[32m    143\u001b[39m     \u001b[38;5;66;03m# x: (batch_size, seq_len, embedding_dim)\u001b[39;00m\n\u001b[32m--> \u001b[39m\u001b[32m144\u001b[39m     lstm_out, _ = \u001b[38;5;28;43mself\u001b[39;49m\u001b[43m.\u001b[49m\u001b[43mlstm\u001b[49m\u001b[43m(\u001b[49m\u001b[43mx\u001b[49m\u001b[43m)\u001b[49m  \u001b[38;5;66;03m# (batch_size, seq_len, hidden_dim * 2)\u001b[39;00m\n\u001b[32m    145\u001b[39m     norm_out = \u001b[38;5;28mself\u001b[39m.layernorm(lstm_out)  \u001b[38;5;66;03m# stabilize across time steps\u001b[39;00m\n\u001b[32m    146\u001b[39m     norm_out = \u001b[38;5;28mself\u001b[39m.dropout(norm_out)  \u001b[38;5;66;03m# prevent overfitting\u001b[39;00m\n",
      "\u001b[36mFile \u001b[39m\u001b[32m~/school/nlp/project/NLP1-Poetry/.venv/lib/python3.12/site-packages/torch/nn/modules/module.py:1739\u001b[39m, in \u001b[36mModule._wrapped_call_impl\u001b[39m\u001b[34m(self, *args, **kwargs)\u001b[39m\n\u001b[32m   1737\u001b[39m     \u001b[38;5;28;01mreturn\u001b[39;00m \u001b[38;5;28mself\u001b[39m._compiled_call_impl(*args, **kwargs)  \u001b[38;5;66;03m# type: ignore[misc]\u001b[39;00m\n\u001b[32m   1738\u001b[39m \u001b[38;5;28;01melse\u001b[39;00m:\n\u001b[32m-> \u001b[39m\u001b[32m1739\u001b[39m     \u001b[38;5;28;01mreturn\u001b[39;00m \u001b[38;5;28;43mself\u001b[39;49m\u001b[43m.\u001b[49m\u001b[43m_call_impl\u001b[49m\u001b[43m(\u001b[49m\u001b[43m*\u001b[49m\u001b[43margs\u001b[49m\u001b[43m,\u001b[49m\u001b[43m \u001b[49m\u001b[43m*\u001b[49m\u001b[43m*\u001b[49m\u001b[43mkwargs\u001b[49m\u001b[43m)\u001b[49m\n",
      "\u001b[36mFile \u001b[39m\u001b[32m~/school/nlp/project/NLP1-Poetry/.venv/lib/python3.12/site-packages/torch/nn/modules/module.py:1750\u001b[39m, in \u001b[36mModule._call_impl\u001b[39m\u001b[34m(self, *args, **kwargs)\u001b[39m\n\u001b[32m   1745\u001b[39m \u001b[38;5;66;03m# If we don't have any hooks, we want to skip the rest of the logic in\u001b[39;00m\n\u001b[32m   1746\u001b[39m \u001b[38;5;66;03m# this function, and just call forward.\u001b[39;00m\n\u001b[32m   1747\u001b[39m \u001b[38;5;28;01mif\u001b[39;00m \u001b[38;5;129;01mnot\u001b[39;00m (\u001b[38;5;28mself\u001b[39m._backward_hooks \u001b[38;5;129;01mor\u001b[39;00m \u001b[38;5;28mself\u001b[39m._backward_pre_hooks \u001b[38;5;129;01mor\u001b[39;00m \u001b[38;5;28mself\u001b[39m._forward_hooks \u001b[38;5;129;01mor\u001b[39;00m \u001b[38;5;28mself\u001b[39m._forward_pre_hooks\n\u001b[32m   1748\u001b[39m         \u001b[38;5;129;01mor\u001b[39;00m _global_backward_pre_hooks \u001b[38;5;129;01mor\u001b[39;00m _global_backward_hooks\n\u001b[32m   1749\u001b[39m         \u001b[38;5;129;01mor\u001b[39;00m _global_forward_hooks \u001b[38;5;129;01mor\u001b[39;00m _global_forward_pre_hooks):\n\u001b[32m-> \u001b[39m\u001b[32m1750\u001b[39m     \u001b[38;5;28;01mreturn\u001b[39;00m \u001b[43mforward_call\u001b[49m\u001b[43m(\u001b[49m\u001b[43m*\u001b[49m\u001b[43margs\u001b[49m\u001b[43m,\u001b[49m\u001b[43m \u001b[49m\u001b[43m*\u001b[49m\u001b[43m*\u001b[49m\u001b[43mkwargs\u001b[49m\u001b[43m)\u001b[49m\n\u001b[32m   1752\u001b[39m result = \u001b[38;5;28;01mNone\u001b[39;00m\n\u001b[32m   1753\u001b[39m called_always_called_hooks = \u001b[38;5;28mset\u001b[39m()\n",
      "\u001b[36mFile \u001b[39m\u001b[32m~/school/nlp/project/NLP1-Poetry/.venv/lib/python3.12/site-packages/torch/nn/modules/rnn.py:1124\u001b[39m, in \u001b[36mLSTM.forward\u001b[39m\u001b[34m(self, input, hx)\u001b[39m\n\u001b[32m   1121\u001b[39m         hx = \u001b[38;5;28mself\u001b[39m.permute_hidden(hx, sorted_indices)\n\u001b[32m   1123\u001b[39m \u001b[38;5;28;01mif\u001b[39;00m batch_sizes \u001b[38;5;129;01mis\u001b[39;00m \u001b[38;5;28;01mNone\u001b[39;00m:\n\u001b[32m-> \u001b[39m\u001b[32m1124\u001b[39m     result = \u001b[43m_VF\u001b[49m\u001b[43m.\u001b[49m\u001b[43mlstm\u001b[49m\u001b[43m(\u001b[49m\n\u001b[32m   1125\u001b[39m \u001b[43m        \u001b[49m\u001b[38;5;28;43minput\u001b[39;49m\u001b[43m,\u001b[49m\n\u001b[32m   1126\u001b[39m \u001b[43m        \u001b[49m\u001b[43mhx\u001b[49m\u001b[43m,\u001b[49m\n\u001b[32m   1127\u001b[39m \u001b[43m        \u001b[49m\u001b[38;5;28;43mself\u001b[39;49m\u001b[43m.\u001b[49m\u001b[43m_flat_weights\u001b[49m\u001b[43m,\u001b[49m\u001b[43m  \u001b[49m\u001b[38;5;66;43;03m# type: ignore[arg-type]\u001b[39;49;00m\n\u001b[32m   1128\u001b[39m \u001b[43m        \u001b[49m\u001b[38;5;28;43mself\u001b[39;49m\u001b[43m.\u001b[49m\u001b[43mbias\u001b[49m\u001b[43m,\u001b[49m\n\u001b[32m   1129\u001b[39m \u001b[43m        \u001b[49m\u001b[38;5;28;43mself\u001b[39;49m\u001b[43m.\u001b[49m\u001b[43mnum_layers\u001b[49m\u001b[43m,\u001b[49m\n\u001b[32m   1130\u001b[39m \u001b[43m        \u001b[49m\u001b[38;5;28;43mself\u001b[39;49m\u001b[43m.\u001b[49m\u001b[43mdropout\u001b[49m\u001b[43m,\u001b[49m\n\u001b[32m   1131\u001b[39m \u001b[43m        \u001b[49m\u001b[38;5;28;43mself\u001b[39;49m\u001b[43m.\u001b[49m\u001b[43mtraining\u001b[49m\u001b[43m,\u001b[49m\n\u001b[32m   1132\u001b[39m \u001b[43m        \u001b[49m\u001b[38;5;28;43mself\u001b[39;49m\u001b[43m.\u001b[49m\u001b[43mbidirectional\u001b[49m\u001b[43m,\u001b[49m\n\u001b[32m   1133\u001b[39m \u001b[43m        \u001b[49m\u001b[38;5;28;43mself\u001b[39;49m\u001b[43m.\u001b[49m\u001b[43mbatch_first\u001b[49m\u001b[43m,\u001b[49m\n\u001b[32m   1134\u001b[39m \u001b[43m    \u001b[49m\u001b[43m)\u001b[49m\n\u001b[32m   1135\u001b[39m \u001b[38;5;28;01melse\u001b[39;00m:\n\u001b[32m   1136\u001b[39m     result = _VF.lstm(\n\u001b[32m   1137\u001b[39m         \u001b[38;5;28minput\u001b[39m,\n\u001b[32m   1138\u001b[39m         batch_sizes,\n\u001b[32m   (...)\u001b[39m\u001b[32m   1145\u001b[39m         \u001b[38;5;28mself\u001b[39m.bidirectional,\n\u001b[32m   1146\u001b[39m     )\n",
      "\u001b[31mKeyboardInterrupt\u001b[39m: "
     ]
    }
   ],
   "source": [
    "# Call train_model\n",
    "model, rnn_training_time = train_rnn(\n",
    "    model, train_loader, loss_fn, optimizer, scheduler, num_epochs=10\n",
    ")"
   ]
  },
  {
   "cell_type": "code",
   "execution_count": null,
   "metadata": {},
   "outputs": [],
   "source": [
    "save_model(model, label_encoder)"
   ]
  },
  {
   "cell_type": "markdown",
   "metadata": {},
   "source": [
    "## Evaluation"
   ]
  },
  {
   "cell_type": "code",
   "execution_count": null,
   "metadata": {},
   "outputs": [],
   "source": [
    "validate_rnn(model, val_loader, label_encoder, rnn_training_time)"
   ]
  }
 ],
 "metadata": {
  "kernelspec": {
   "display_name": ".venv",
   "language": "python",
   "name": "python3"
  },
  "language_info": {
   "codemirror_mode": {
    "name": "ipython",
    "version": 3
   },
   "file_extension": ".py",
   "mimetype": "text/x-python",
   "name": "python",
   "nbconvert_exporter": "python",
   "pygments_lexer": "ipython3",
   "version": "3.12.7"
  }
 },
 "nbformat": 4,
 "nbformat_minor": 2
}
